{
 "cells": [
  {
   "cell_type": "code",
   "execution_count": 2,
   "metadata": {
    "colab": {
     "base_uri": "https://localhost:8080/"
    },
    "id": "tNvz2y_u-gar",
    "outputId": "8604b59e-0c63-4d7b-c25d-8410476d6d31",
    "scrolled": true
   },
   "outputs": [
    {
     "name": "stdout",
     "output_type": "stream",
     "text": [
      "Requirement already satisfied: Sastrawi in c:\\users\\hp\\anaconda3\\lib\\site-packages (1.0.1)\n",
      "Note: you may need to restart the kernel to use updated packages.\n"
     ]
    }
   ],
   "source": [
    "pip install Sastrawi"
   ]
  },
  {
   "cell_type": "code",
   "execution_count": 3,
   "metadata": {
    "colab": {
     "base_uri": "https://localhost:8080/",
     "height": 915
    },
    "id": "m5fqvM3p5iZ6",
    "outputId": "a43150eb-f88d-42b9-c443-6e849dc3d9cc"
   },
   "outputs": [
    {
     "data": {
      "text/html": [
       "<div>\n",
       "<style scoped>\n",
       "    .dataframe tbody tr th:only-of-type {\n",
       "        vertical-align: middle;\n",
       "    }\n",
       "\n",
       "    .dataframe tbody tr th {\n",
       "        vertical-align: top;\n",
       "    }\n",
       "\n",
       "    .dataframe thead th {\n",
       "        text-align: right;\n",
       "    }\n",
       "</style>\n",
       "<table border=\"1\" class=\"dataframe\">\n",
       "  <thead>\n",
       "    <tr style=\"text-align: right;\">\n",
       "      <th></th>\n",
       "      <th>Tweet</th>\n",
       "      <th>Kategori Tweet</th>\n",
       "    </tr>\n",
       "  </thead>\n",
       "  <tbody>\n",
       "    <tr>\n",
       "      <th>0</th>\n",
       "      <td>GOJEK KENAPA PELIT BANGET SAMA GUEEEEEEE ðŸ˜¢ð...</td>\n",
       "      <td>0</td>\n",
       "    </tr>\n",
       "    <tr>\n",
       "      <th>1</th>\n",
       "      <td>@BebalBoy @inimilkitaa @netflix @NetflixID @go...</td>\n",
       "      <td>0</td>\n",
       "    </tr>\n",
       "    <tr>\n",
       "      <th>2</th>\n",
       "      <td>Dikasih jalan buntu sama @gojekindonesia .Ini ...</td>\n",
       "      <td>0</td>\n",
       "    </tr>\n",
       "    <tr>\n",
       "      <th>3</th>\n",
       "      <td>@30SECVlDEOS @gojekindonesia tolong ini para d...</td>\n",
       "      <td>0</td>\n",
       "    </tr>\n",
       "    <tr>\n",
       "      <th>4</th>\n",
       "      <td>Egila ya marketingnya mantep bgt. Mau bgt kerj...</td>\n",
       "      <td>1</td>\n",
       "    </tr>\n",
       "  </tbody>\n",
       "</table>\n",
       "</div>"
      ],
      "text/plain": [
       "                                               Tweet  Kategori Tweet\n",
       "0  GOJEK KENAPA PELIT BANGET SAMA GUEEEEEEE ðŸ˜¢ð...               0\n",
       "1  @BebalBoy @inimilkitaa @netflix @NetflixID @go...               0\n",
       "2  Dikasih jalan buntu sama @gojekindonesia .Ini ...               0\n",
       "3  @30SECVlDEOS @gojekindonesia tolong ini para d...               0\n",
       "4  Egila ya marketingnya mantep bgt. Mau bgt kerj...               1"
      ]
     },
     "execution_count": 3,
     "metadata": {},
     "output_type": "execute_result"
    }
   ],
   "source": [
    "import pandas as pd\n",
    "import numpy as np\n",
    "import io\n",
    "import pandas as dataframe\n",
    "import string\n",
    "import nltk\n",
    "from nltk import word_tokenize\n",
    "import re\n",
    "import sys\n",
    "import os\n",
    "from Sastrawi.Stemmer.StemmerFactory import StemmerFactory\n",
    "from IPython.display import display\n",
    "import matplotlib.pyplot as plt\n",
    "\n",
    "data = pd.read_csv('D:/twitter.csv', delimiter=\",\")\n",
    "data.drop_duplicates()\n",
    "data= data[(data['Bahasa']==\"in\")]\n",
    "data=data[[\"Tweet\",\"Kategori Tweet\"]]\n",
    "data.head()"
   ]
  },
  {
   "cell_type": "code",
   "execution_count": null,
   "metadata": {
    "colab": {
     "base_uri": "https://localhost:8080/",
     "height": 166
    },
    "id": "qGj5vvKre_o3",
    "outputId": "1215fa02-0630-430e-b6cf-434efdb97d02"
   },
   "outputs": [
    {
     "ename": "KeyError",
     "evalue": "ignored",
     "output_type": "error",
     "traceback": [
      "\u001b[0;31m---------------------------------------------------------------------------\u001b[0m",
      "\u001b[0;31mKeyError\u001b[0m                                  Traceback (most recent call last)",
      "\u001b[0;32m<ipython-input-48-ae377bd24018>\u001b[0m in \u001b[0;36m<module>\u001b[0;34m()\u001b[0m\n\u001b[0;32m----> 1\u001b[0;31m \u001b[0mdata_raw\u001b[0m \u001b[0;34m=\u001b[0m \u001b[0mpd\u001b[0m\u001b[0;34m.\u001b[0m\u001b[0mread_csv\u001b[0m\u001b[0;34m(\u001b[0m\u001b[0mio\u001b[0m\u001b[0;34m.\u001b[0m\u001b[0mBytesIO\u001b[0m\u001b[0;34m(\u001b[0m\u001b[0muploaded_2\u001b[0m\u001b[0;34m[\u001b[0m\u001b[0;34m'Dataset_2 (1).csv'\u001b[0m\u001b[0;34m]\u001b[0m\u001b[0;34m)\u001b[0m\u001b[0;34m,\u001b[0m \u001b[0mdelimiter\u001b[0m\u001b[0;34m=\u001b[0m\u001b[0;34m\",\"\u001b[0m\u001b[0;34m)\u001b[0m\u001b[0;34m\u001b[0m\u001b[0;34m\u001b[0m\u001b[0m\n\u001b[0m",
      "\u001b[0;31mKeyError\u001b[0m: 'Dataset_2 (1).csv'"
     ]
    }
   ],
   "source": [
    "raw = pd.read_csv(io.BytesIO(uploaded_2['Dataset_2.csv']), delimiter=\",\")"
   ]
  },
  {
   "cell_type": "code",
   "execution_count": null,
   "metadata": {
    "colab": {
     "base_uri": "https://localhost:8080/",
     "height": 236
    },
    "id": "5gAlciv6Z2fh",
    "outputId": "a8d3b3f7-cbb8-4948-a5fe-75f2a79fa82c"
   },
   "outputs": [
    {
     "ename": "NameError",
     "evalue": "ignored",
     "output_type": "error",
     "traceback": [
      "\u001b[0;31m---------------------------------------------------------------------------\u001b[0m",
      "\u001b[0;31mNameError\u001b[0m                                 Traceback (most recent call last)",
      "\u001b[0;32m<ipython-input-56-125764116ced>\u001b[0m in \u001b[0;36m<module>\u001b[0;34m()\u001b[0m\n\u001b[1;32m      1\u001b[0m \u001b[0;31m#Bar Chart\u001b[0m\u001b[0;34m\u001b[0m\u001b[0;34m\u001b[0m\u001b[0;34m\u001b[0m\u001b[0m\n\u001b[1;32m      2\u001b[0m \u001b[0;32mimport\u001b[0m \u001b[0mseaborn\u001b[0m \u001b[0;32mas\u001b[0m \u001b[0msns\u001b[0m\u001b[0;34m\u001b[0m\u001b[0;34m\u001b[0m\u001b[0m\n\u001b[0;32m----> 3\u001b[0;31m \u001b[0mbahasa\u001b[0m\u001b[0;34m=\u001b[0m\u001b[0mraw\u001b[0m\u001b[0;34m[\u001b[0m\u001b[0;34m'Bahasa'\u001b[0m\u001b[0;34m]\u001b[0m\u001b[0;34m.\u001b[0m\u001b[0mvalue_counts\u001b[0m\u001b[0;34m(\u001b[0m\u001b[0;34m)\u001b[0m\u001b[0;34m\u001b[0m\u001b[0;34m\u001b[0m\u001b[0m\n\u001b[0m\u001b[1;32m      4\u001b[0m \u001b[0mf\u001b[0m\u001b[0;34m,\u001b[0m \u001b[0max\u001b[0m \u001b[0;34m=\u001b[0m \u001b[0mplt\u001b[0m\u001b[0;34m.\u001b[0m\u001b[0msubplots\u001b[0m\u001b[0;34m(\u001b[0m\u001b[0mfigsize\u001b[0m\u001b[0;34m=\u001b[0m\u001b[0;34m(\u001b[0m\u001b[0;36m15\u001b[0m\u001b[0;34m,\u001b[0m\u001b[0;36m6\u001b[0m\u001b[0;34m)\u001b[0m\u001b[0;34m)\u001b[0m\u001b[0;34m\u001b[0m\u001b[0;34m\u001b[0m\u001b[0m\n\u001b[1;32m      5\u001b[0m \u001b[0mchart\u001b[0m\u001b[0;34m=\u001b[0m\u001b[0msns\u001b[0m\u001b[0;34m.\u001b[0m\u001b[0mbarplot\u001b[0m\u001b[0;34m(\u001b[0m\u001b[0mbahasa\u001b[0m\u001b[0;34m.\u001b[0m\u001b[0mindex\u001b[0m\u001b[0;34m,\u001b[0m\u001b[0mbahasa\u001b[0m\u001b[0;34m.\u001b[0m\u001b[0mvalues\u001b[0m\u001b[0;34m,\u001b[0m\u001b[0malpha\u001b[0m\u001b[0;34m=\u001b[0m\u001b[0;36m1\u001b[0m\u001b[0;34m,\u001b[0m \u001b[0mpalette\u001b[0m\u001b[0;34m=\u001b[0m\u001b[0;34m\"Paired\"\u001b[0m\u001b[0;34m)\u001b[0m\u001b[0;34m\u001b[0m\u001b[0;34m\u001b[0m\u001b[0m\n",
      "\u001b[0;31mNameError\u001b[0m: name 'raw' is not defined"
     ]
    }
   ],
   "source": [
    "#Bar Chart\n",
    "import seaborn as sns\n",
    "bahasa=raw['Bahasa'].value_counts()\n",
    "f, ax = plt.subplots(figsize=(15,6))\n",
    "chart=sns.barplot(bahasa.index,bahasa.values,alpha=1, palette=\"Paired\")\n",
    "for p in chart.patches:\n",
    "             chart.annotate(\"%.0f\" % p.get_height(), (p.get_x() + p.get_width() / 2., p.get_height()),\n",
    "                 ha='center', va='center', fontsize=10, color='black', xytext=(0, 5),\n",
    "                 textcoords='offset points')\n",
    "plt.show()\n",
    "type"
   ]
  },
  {
   "cell_type": "code",
   "execution_count": 5,
   "metadata": {
    "colab": {
     "base_uri": "https://localhost:8080/",
     "height": 204
    },
    "id": "9Szm_7x6ZzsB",
    "outputId": "893c69cd-3eb8-4ebd-c6bd-5a71ab88a297"
   },
   "outputs": [
    {
     "data": {
      "text/html": [
       "<div>\n",
       "<style scoped>\n",
       "    .dataframe tbody tr th:only-of-type {\n",
       "        vertical-align: middle;\n",
       "    }\n",
       "\n",
       "    .dataframe tbody tr th {\n",
       "        vertical-align: top;\n",
       "    }\n",
       "\n",
       "    .dataframe thead th {\n",
       "        text-align: right;\n",
       "    }\n",
       "</style>\n",
       "<table border=\"1\" class=\"dataframe\">\n",
       "  <thead>\n",
       "    <tr style=\"text-align: right;\">\n",
       "      <th></th>\n",
       "      <th>Tweet</th>\n",
       "      <th>Kategori Tweet</th>\n",
       "    </tr>\n",
       "  </thead>\n",
       "  <tbody>\n",
       "    <tr>\n",
       "      <th>0</th>\n",
       "      <td>GOJEK KENAPA PELIT BANGET SAMA GUEEEEEEE ðŸ˜¢ð...</td>\n",
       "      <td>0</td>\n",
       "    </tr>\n",
       "    <tr>\n",
       "      <th>1</th>\n",
       "      <td>@BebalBoy @inimilkitaa @netflix @NetflixID @go...</td>\n",
       "      <td>0</td>\n",
       "    </tr>\n",
       "    <tr>\n",
       "      <th>2</th>\n",
       "      <td>Dikasih jalan buntu sama @gojekindonesia .Ini ...</td>\n",
       "      <td>0</td>\n",
       "    </tr>\n",
       "    <tr>\n",
       "      <th>3</th>\n",
       "      <td>@30SECVlDEOS @gojekindonesia tolong ini para d...</td>\n",
       "      <td>0</td>\n",
       "    </tr>\n",
       "    <tr>\n",
       "      <th>4</th>\n",
       "      <td>Egila ya marketingnya mantep bgt. Mau bgt kerj...</td>\n",
       "      <td>1</td>\n",
       "    </tr>\n",
       "  </tbody>\n",
       "</table>\n",
       "</div>"
      ],
      "text/plain": [
       "                                               Tweet  Kategori Tweet\n",
       "0  GOJEK KENAPA PELIT BANGET SAMA GUEEEEEEE ðŸ˜¢ð...               0\n",
       "1  @BebalBoy @inimilkitaa @netflix @NetflixID @go...               0\n",
       "2  Dikasih jalan buntu sama @gojekindonesia .Ini ...               0\n",
       "3  @30SECVlDEOS @gojekindonesia tolong ini para d...               0\n",
       "4  Egila ya marketingnya mantep bgt. Mau bgt kerj...               1"
      ]
     },
     "execution_count": 5,
     "metadata": {},
     "output_type": "execute_result"
    }
   ],
   "source": [
    "data= data[(data['Bahasa']==\"in\")]\n",
    "data=data[[\"Tweet\",\"Kategori Tweet\"]]\n",
    "data.head()"
   ]
  },
  {
   "cell_type": "code",
   "execution_count": 4,
   "metadata": {
    "colab": {
     "base_uri": "https://localhost:8080/",
     "height": 299
    },
    "id": "TWt_EOXiiWKv",
    "outputId": "518f636a-7772-4176-f2a0-662621492981"
   },
   "outputs": [
    {
     "data": {
      "image/png": "[encoded data removed]",
      "text/plain": [
       "<Figure size 432x288 with 1 Axes>"
      ]
     },
     "metadata": {},
     "output_type": "display_data"
    },
    {
     "name": "stdout",
     "output_type": "stream",
     "text": [
      "0    404\n",
      "1    242\n",
      "Name: Kategori Tweet, dtype: int64\n"
     ]
    }
   ],
   "source": [
    "#Pie Chart\n",
    "type=data['Kategori Tweet'].value_counts()\n",
    "my_labels = ['Negatif','Positif']\n",
    "my_colors = ['lightblue','silver']\n",
    "my_explode = (0, 0.2)\n",
    "plt.pie(type, labels=my_labels, autopct='%1.1f%%', startangle=15, shadow = True, colors=my_colors, explode=my_explode)\n",
    "plt.axis('equal')\n",
    "plt.show()\n",
    "print(type)"
   ]
  },
  {
   "cell_type": "code",
   "execution_count": 5,
   "metadata": {
    "colab": {
     "base_uri": "https://localhost:8080/"
    },
    "id": "rAej4nXSEcqV",
    "outputId": "6ca9981e-fdd3-43fd-da64-1527bdf461fc"
   },
   "outputs": [
    {
     "data": {
      "text/plain": [
       "0      GOJEK KENAPA PELIT BANGET SAMA GUEEEEEEE ðŸ˜¢ð...\n",
       "1      @BebalBoy @inimilkitaa @netflix @NetflixID @go...\n",
       "2      Dikasih jalan buntu sama @gojekindonesia .Ini ...\n",
       "3      @30SECVlDEOS @gojekindonesia tolong ini para d...\n",
       "4      Egila ya marketingnya mantep bgt. Mau bgt kerj...\n",
       "                             ...                        \n",
       "724    @kitiiingman @Maxim_Indonesia @gojekindonesia ...\n",
       "725    @viiinnnn_ DUH ANDA MH TINGGAL GOJEK 1 JAM JG ...\n",
       "727    @gojekindonesia Min q nonton go play kok kuota...\n",
       "728    @gojekindonesia serint dapet sms ke gini maksu...\n",
       "729    @gojekindonesia @akurizki Min respon aku juga:...\n",
       "Name: Tweet, Length: 646, dtype: object"
      ]
     },
     "execution_count": 5,
     "metadata": {},
     "output_type": "execute_result"
    }
   ],
   "source": [
    "gjtweet = data['Tweet']\n",
    "gjtweet"
   ]
  },
  {
   "cell_type": "code",
   "execution_count": 6,
   "metadata": {
    "colab": {
     "base_uri": "https://localhost:8080/"
    },
    "id": "IB36CHDeOAIT",
    "outputId": "592ed0e0-f22f-4fd6-8bec-5539d4bdb13d"
   },
   "outputs": [
    {
     "data": {
      "text/plain": [
       "0    GOJEK KENAPA PELIT BANGET SAMA GUEEEEEEE ðŸðŸ ...\n",
       "1                                   Masih belum bisa  \n",
       "2    Dikasih jalan buntu sama  Ini udah mau setaun ...\n",
       "3      tolong ini para drivernya diingatkan untuk t...\n",
       "4    Egila ya marketingnya mantep bgt Mau bgt kerja...\n",
       "Name: Tweet, dtype: object"
      ]
     },
     "execution_count": 6,
     "metadata": {},
     "output_type": "execute_result"
    }
   ],
   "source": [
    "#Menghapus link\n",
    "gjtweet = gjtweet.apply(lambda x: re.sub(r'https?:\\/\\/.*?[\\s+]', '', x.replace(\"|\",\" \") + \" \"))\n",
    "\n",
    "#Menghapus username\n",
    "gjtweet = gjtweet.apply(lambda x: re.sub(r'@\\S+','',x))\n",
    "\n",
    "#Menghapus simbol RT\n",
    "gjtweet = gjtweet.apply(lambda x: re.sub(r'RT','',x))\n",
    "\n",
    "#Menghapus hashtag\n",
    "gjtweet = gjtweet.apply(lambda x: re.sub(r'#(\\w+)','',x))\n",
    "\n",
    "#Menghapus space enter\n",
    "gjtweet = gjtweet.apply(lambda x: re.sub(r'\\n',' ',x))\n",
    "\n",
    "#Menghapus angka\n",
    "gjtweet = gjtweet.apply(lambda x: re.sub(r'[0-9]', '', x))\n",
    "\n",
    "#Menghapus tanda baca\n",
    "gjtweet = gjtweet.apply(lambda x: re.sub(r'[^\\w\\s]','',x))\n",
    "\n",
    "gjtweet.head()"
   ]
  },
  {
   "cell_type": "code",
   "execution_count": 7,
   "metadata": {
    "id": "c5MNd8AJF9hx"
   },
   "outputs": [],
   "source": [
    "#Case Folding\n",
    "gjcf = []\n",
    "for line in gjtweet:\n",
    " result = line.lower()\n",
    " gjcf.append(result)"
   ]
  },
  {
   "cell_type": "code",
   "execution_count": 8,
   "metadata": {
    "id": "fioUDUxZGEvB"
   },
   "outputs": [],
   "source": [
    "#Stemming\n",
    "factory = StemmerFactory()\n",
    "stemmer = factory.create_stemmer()\n",
    "gjstemmed = map(lambda x: stemmer.stem(x),gjcf)\n",
    "gj_no_punc = map(lambda x: x.translate(str.maketrans('','',string.punctuation)),gjstemmed)\n",
    "gj_no_punc = list(gj_no_punc)"
   ]
  },
  {
   "cell_type": "code",
   "execution_count": 9,
   "metadata": {
    "id": "Jyqi-ZJJIOgI"
   },
   "outputs": [],
   "source": [
    "#Kata dengan Arti Sama\n",
    "gjchange1 = []\n",
    "for line in gj_no_punc:\n",
    " result = re.sub(r\"adadmin\",\"admin\",line)\n",
    " gjchange1.append(result)\n",
    "\n",
    "gjchange2 = []\n",
    "for line in gjchange1:\n",
    " result = re.sub(r\"adadmin\",\"admin\",line)\n",
    " gjchange2.append(result)\n",
    "\n",
    "gjchange3 = []\n",
    "for line in gjchange2:\n",
    " result = re.sub(r\"admin\",\"min\",line)\n",
    " gjchange3.append(result)\n",
    "\n",
    "gjchange4 = []\n",
    "for line in gjchange3:\n",
    " result = re.sub(r\"aplikasi\",\"app\",line)\n",
    " gjchange4.append(result)\n",
    "\n",
    "gjchange5 = []\n",
    "for line in gjchange4:\n",
    " result = re.sub(r\"dpt\",\"dapet\",line)\n",
    " gjchange5.append(result)\n",
    "\n",
    "gjchange6 = []\n",
    "for line in gjchange5:\n",
    " result = re.sub(r\"gak\",\"ga\",line)\n",
    " gjchange6.append(result)\n",
    " \n",
    "gjchange7 = []\n",
    "for line in gjchange6:\n",
    " result = re.sub(r\"gk\",\"ga\",line)\n",
    " gjchange7.append(result)\n",
    "\n",
    "gjchange8 = []\n",
    "for line in gjchange7:\n",
    " result = re.sub(r\"ngasih\",\"kasih\",line)\n",
    " gjchange8.append(result)\n",
    "\n",
    "gjchange9 = []\n",
    "for line in gjchange8:\n",
    " result = re.sub(r\"pakai\",\"pake\",line)\n",
    " gjchange9.append(result)\n",
    "\n",
    "gjchange10 = []\n",
    "for line in gjchange9:\n",
    " result = re.sub(r\"skrg\",\"sekarang\",line)\n",
    " gjchange10.append(result)"
   ]
  },
  {
   "cell_type": "code",
   "execution_count": 10,
   "metadata": {
    "colab": {
     "base_uri": "https://localhost:8080/"
    },
    "id": "lcwDcY2JsgAQ",
    "outputId": "0eeae80a-337f-4adc-c402-49dc1a806b34"
   },
   "outputs": [
    {
     "name": "stderr",
     "output_type": "stream",
     "text": [
      "[nltk_data] Downloading package punkt to\n",
      "[nltk_data]     C:\\Users\\HP\\AppData\\Roaming\\nltk_data...\n",
      "[nltk_data]   Package punkt is already up-to-date!\n"
     ]
    }
   ],
   "source": [
    "# Stopwords\n",
    "import nltk\n",
    "from Sastrawi.StopWordRemover.StopWordRemoverFactory import StopWordRemoverFactory, StopWordRemover, ArrayDictionary\n",
    "nltk.download('punkt')\n",
    "factory = StopWordRemoverFactory()\n",
    "stopword1 = factory.get_stop_words()\n",
    "moresw=['gueeeeeee', 'lah', 'tu', 'ajaaaaa', 'ihh', 'bet', 'ya', 'dong', 'pls', 'nyata','padahal',\n",
    "        'kok', 'dung', 'ko', 'eh', 'kan', 'nya', 'nah', 'ni', 'hallo', 'an', 'dah',\n",
    "        'ke', 'tai', 'atuh', 'sih', 'gue', 'saya', 'hai', 'd', 'aku', 'aj', 'kah',\n",
    "        'siii', 'om', 'this', 'maskkkkk', 'nge', 'gadak', 'hi', 'sy', 'jga', 'kata','kaya',\n",
    "        'ANJJJJJJ', 'lg', 'or', 'mamam', 'nih', 'njirr', 'klo', 'g', 'dongg', 'kerja',\n",
    "        'anjg', 'x', 'bgtt', 'anjrit', 'lo', 'sialan', 'gw', 'gt', 'rb', 'lu', 'pas','pernah',\n",
    "        'u', 'si', 'trims', 'kak', 'yaa', 'ku', 'siii', 'ny', 'w', 'gin','gitu','gua','jadi','kalau','kalo','kamu','kantor',\n",
    "        'ye', 'teu', 'ngarti', 'deh', 'tuh', 'duuuuh', 'dear', 'huhu', 'bgd', 'lebih',\n",
    "        'napa', 'duh', 'yaampun', 'nonono', 'ak', 'ae', 'yah', 'hdeh', 'mah', 'ay','gdulu',\n",
    "        'dg', 'pulo', 'minto', 'pd', 'pak', 'nyo', 'gaa', 'mo', 'anying', 'p', 'lewat',\n",
    "        'sib', 'egk', 'sat', 'set', 'bat', 'dey', 'haha', 'wkwk', 'anyink', 'bgt','banget','begini','biar','buat','cuma',\n",
    "        'shshdjdjdjdk', 'anyep', 'weeeh', 'naek', 'dr', 'tbtb', 'lgi', 'bib', 'mas','sen','tapi','tp','terus','trs',\n",
    "        'lagiiii', 'WKWKWKWKW', 'WKWKWKWKWKWKKWWKWKWKWKWKWKWKKWKWKWKWKWKKWKWKWKWKWK','suruh','udah','udh',\n",
    "        'kaka', 'ampe', 'wwww', 'toh', 'gaes', 'dooong', 'kaa', 'ka', 'bj', 'km', 'y', 'rumah','yg'\n",
    "        'hihi', 'mbak', 'SHSHHSHS', 'bib', 'tks', 'heheheh', 'jek', 'tlol', 'weeii','dong','gin','gua','halo','lalu', \n",
    "        'bangsattttttttt', 'yaaalllaaaaaaaah', 'asu', 'riz', 'na', 'euy', 'aya', 'aja','apa',\n",
    "        'WKWKWKKWKW', 'aduh', 'nder', 'kah', 'hhh','hhh','ya','q','jg','kah','min','nya','ayooo','hooh','hi','kan','owe','baaaaangg','nya','jg','iya','laahh','yaa','u','yuhuuuu','icaaaaa','the','wkwkwk','jd','he','pagi','anjir','nah','thx','cok','bro','y','doang',\n",
    "        'ibu', 'pake', 'ttg', 'tip', 'klik', 'bikin', 'make', 'sayang', 'sori', 'engga', 'sbg', 'sama', 'mau', 'masuk', 'hari', 'ken', 'sir', 'culik', 'sma', 'hei', 'wts', 'ppl', 'tpi', 'pul', 'liat', 'bri', 'sii', 'ijo', 'ktp', 'hola', 'like', 'hilal', 'wow',\n",
    "        'tdk', 'dih', 'kakak', 'beri', 'ikit', 'luar', 'alat', 'jco', 'bobo', 'doa', 'sdh', 'tali', 'tak', 'pke', 'tlg', 'hati', 'asa', 'sak', 'sik', 'rudet', 'taun', 'voc', 'isa', 'dri', 'pol', 'btul', 'cri', 'blj', 'lha', 'pdhl', 'utk', 'yuk', 'adu', 'doi', 'sila',\n",
    "        'loh', 'siapa', 'tau', 'atas', 'tes', 'buru', 'knp','tpi','orang','bahkan','cuman','sadar','bisapesen','kayak','gmn','bapak','mana','plis','lindung','asli','nomer','sayang','dipake','via','tau','ongair','lha','sik','kaga','diri','hari','blm','make','tele','pke',\n",
    "        'tak','tetep','tlg','sbg','sama','sekarang','bayar','kemarin','emang','agustus']\n",
    "sw = stopword1 + moresw\n",
    "dictionary = ArrayDictionary(sw)\n",
    "strw = StopWordRemover(dictionary)\n",
    "removestop=[]\n",
    "for line in gjchange10 :\n",
    " word_token = nltk.word_tokenize(line)\n",
    " word_token = [word for word in word_token if not word in\n",
    "sw]\n",
    " removestop.append(\" \".join(word_token))\n",
    "gjtoken=[]\n",
    "for line in removestop :\n",
    " b = nltk.word_tokenize(line)\n",
    " gjtoken.append(b)\n",
    "token_df=pd.DataFrame(gjtoken)\n"
   ]
  },
  {
   "cell_type": "code",
   "execution_count": null,
   "metadata": {
    "colab": {
     "base_uri": "https://localhost:8080/",
     "height": 17
    },
    "id": "fCRCEslaihwa",
    "outputId": "92d74f7f-72f9-47d8-a29f-b77b56c20fe2"
   },
   "outputs": [
    {
     "data": {
      "application/javascript": [
       "\n",
       "    async function download(id, filename, size) {\n",
       "      if (!google.colab.kernel.accessAllowed) {\n",
       "        return;\n",
       "      }\n",
       "      const div = document.createElement('div');\n",
       "      const label = document.createElement('label');\n",
       "      label.textContent = `Downloading \"${filename}\": `;\n",
       "      div.appendChild(label);\n",
       "      const progress = document.createElement('progress');\n",
       "      progress.max = size;\n",
       "      div.appendChild(progress);\n",
       "      document.body.appendChild(div);\n",
       "\n",
       "      const buffers = [];\n",
       "      let downloaded = 0;\n",
       "\n",
       "      const channel = await google.colab.kernel.comms.open(id);\n",
       "      // Send a message to notify the kernel that we're ready.\n",
       "      channel.send({})\n",
       "\n",
       "      for await (const message of channel.messages) {\n",
       "        // Send a message to notify the kernel that we're ready.\n",
       "        channel.send({})\n",
       "        if (message.buffers) {\n",
       "          for (const buffer of message.buffers) {\n",
       "            buffers.push(buffer);\n",
       "            downloaded += buffer.byteLength;\n",
       "            progress.value = downloaded;\n",
       "          }\n",
       "        }\n",
       "      }\n",
       "      const blob = new Blob(buffers, {type: 'application/binary'});\n",
       "      const a = document.createElement('a');\n",
       "      a.href = window.URL.createObjectURL(blob);\n",
       "      a.download = filename;\n",
       "      div.appendChild(a);\n",
       "      a.click();\n",
       "      div.remove();\n",
       "    }\n",
       "  "
      ],
      "text/plain": [
       "<IPython.core.display.Javascript object>"
      ]
     },
     "metadata": {},
     "output_type": "display_data"
    },
    {
     "data": {
      "application/javascript": [
       "download(\"download_a8f446ef-1dcd-4cd8-874b-3fe2cf186a90\", \"tw.csv\", 39814)"
      ],
      "text/plain": [
       "<IPython.core.display.Javascript object>"
      ]
     },
     "metadata": {},
     "output_type": "display_data"
    }
   ],
   "source": [
    "removestop = pd.DataFrame (removestop, columns = ['tweet'])\n",
    "tw=removestop.merge(data['Kategori Tweet'], how='left',on=removestop.index)\n",
    "tw=tw.drop(['key_0'],axis=1)\n",
    "tw.to_csv('tw.csv')\n",
    "files.download('tw.csv')"
   ]
  },
  {
   "cell_type": "code",
   "execution_count": null,
   "metadata": {
    "colab": {
     "base_uri": "https://localhost:8080/",
     "height": 204
    },
    "id": "oQJeTeSGZ1Se",
    "outputId": "53cdfe63-a133-4b00-9be2-f78ab2f44e46"
   },
   "outputs": [
    {
     "data": {
      "text/html": [
       "<div>\n",
       "<style scoped>\n",
       "    .dataframe tbody tr th:only-of-type {\n",
       "        vertical-align: middle;\n",
       "    }\n",
       "\n",
       "    .dataframe tbody tr th {\n",
       "        vertical-align: top;\n",
       "    }\n",
       "\n",
       "    .dataframe thead th {\n",
       "        text-align: right;\n",
       "    }\n",
       "</style>\n",
       "<table border=\"1\" class=\"dataframe\">\n",
       "  <thead>\n",
       "    <tr style=\"text-align: right;\">\n",
       "      <th></th>\n",
       "      <th>tweet</th>\n",
       "      <th>Kategori Tweet</th>\n",
       "    </tr>\n",
       "  </thead>\n",
       "  <tbody>\n",
       "    <tr>\n",
       "      <th>641</th>\n",
       "      <td>ga bandingin awal gojek kecewa soal</td>\n",
       "      <td>1</td>\n",
       "    </tr>\n",
       "    <tr>\n",
       "      <th>642</th>\n",
       "      <td>mh tinggal gojek jam nyampe</td>\n",
       "      <td>1</td>\n",
       "    </tr>\n",
       "    <tr>\n",
       "      <th>643</th>\n",
       "      <td>nonton go play kuota msh sedot</td>\n",
       "      <td>0</td>\n",
       "    </tr>\n",
       "    <tr>\n",
       "      <th>644</th>\n",
       "      <td>serint dapet sms maksutny</td>\n",
       "      <td>0</td>\n",
       "    </tr>\n",
       "    <tr>\n",
       "      <th>645</th>\n",
       "      <td>respon</td>\n",
       "      <td>0</td>\n",
       "    </tr>\n",
       "  </tbody>\n",
       "</table>\n",
       "</div>"
      ],
      "text/plain": [
       "                                   tweet  Kategori Tweet\n",
       "641  ga bandingin awal gojek kecewa soal               1\n",
       "642          mh tinggal gojek jam nyampe               1\n",
       "643       nonton go play kuota msh sedot               0\n",
       "644            serint dapet sms maksutny               0\n",
       "645                               respon               0"
      ]
     },
     "execution_count": 78,
     "metadata": {},
     "output_type": "execute_result"
    }
   ],
   "source": [
    "tw=removestop.merge(data['Kategori Tweet'], how='left',on=removestop.index)\n",
    "tw=tw.drop(['key_0'],axis=1)\n",
    "tw.tail()"
   ]
  },
  {
   "cell_type": "code",
   "execution_count": 11,
   "metadata": {
    "colab": {
     "base_uri": "https://localhost:8080/"
    },
    "id": "0umwVuSd76Un",
    "outputId": "6d031f6a-d31b-4e7e-8537-68e7ca1ea59e"
   },
   "outputs": [
    {
     "name": "stdout",
     "output_type": "stream",
     "text": [
      "[[0. 0. 0. ... 0. 0. 0.]\n",
      " [0. 0. 0. ... 0. 0. 0.]\n",
      " [0. 0. 0. ... 0. 0. 0.]\n",
      " ...\n",
      " [0. 0. 0. ... 0. 0. 0.]\n",
      " [0. 0. 0. ... 0. 0. 0.]\n",
      " [0. 0. 0. ... 0. 0. 0.]]\n",
      "(646, 1910)\n"
     ]
    }
   ],
   "source": [
    "#Vektorisasi Variabel TF-IDF\n",
    "from sklearn.feature_extraction.text import CountVectorizer\n",
    "from sklearn.feature_extraction.text import TfidfVectorizer\n",
    "vectorizer = CountVectorizer(min_df=10)\n",
    "DTM = vectorizer.fit_transform(removestop)\n",
    "DTM_ = pd.DataFrame(DTM.toarray(), columns = vectorizer.get_feature_names())\n",
    "vectorizer1 = TfidfVectorizer(use_idf=True, norm='l2')\n",
    "matrix1 = vectorizer1.fit_transform(removestop)\n",
    "int_matrix1=matrix1.astype(np.int64)\n",
    "tfidf1 = pd.DataFrame(matrix1.toarray(), columns=vectorizer1.get_feature_names())\n",
    "tfidf_df1=pd.concat([gjtweet,tfidf1], axis=1)\n",
    "tfidf_train = (matrix1.toarray())\n",
    "print(tfidf_train)\n",
    "print(tfidf_train.shape)"
   ]
  },
  {
   "cell_type": "code",
   "execution_count": null,
   "metadata": {
    "colab": {
     "base_uri": "https://localhost:8080/",
     "height": 226
    },
    "id": "pgd9ktKELJ2f",
    "outputId": "9d05a868-b2b8-4fea-dd52-231afcc580ad"
   },
   "outputs": [
    {
     "data": {
      "text/html": [
       "<div>\n",
       "<style scoped>\n",
       "    .dataframe tbody tr th:only-of-type {\n",
       "        vertical-align: middle;\n",
       "    }\n",
       "\n",
       "    .dataframe tbody tr th {\n",
       "        vertical-align: top;\n",
       "    }\n",
       "\n",
       "    .dataframe thead th {\n",
       "        text-align: right;\n",
       "    }\n",
       "</style>\n",
       "<table border=\"1\" class=\"dataframe\">\n",
       "  <thead>\n",
       "    <tr style=\"text-align: right;\">\n",
       "      <th></th>\n",
       "      <th>akhir</th>\n",
       "      <th>akun</th>\n",
       "      <th>app</th>\n",
       "      <th>baik</th>\n",
       "      <th>bantu</th>\n",
       "      <th>banyak</th>\n",
       "      <th>baru</th>\n",
       "      <th>beli</th>\n",
       "      <th>biasa</th>\n",
       "      <th>buka</th>\n",
       "      <th>bukan</th>\n",
       "      <th>cancel</th>\n",
       "      <th>cashback</th>\n",
       "      <th>cek</th>\n",
       "      <th>cs</th>\n",
       "      <th>customer</th>\n",
       "      <th>dapet</th>\n",
       "      <th>diskon</th>\n",
       "      <th>dm</th>\n",
       "      <th>driver</th>\n",
       "      <th>email</th>\n",
       "      <th>enak</th>\n",
       "      <th>ga</th>\n",
       "      <th>gabisa</th>\n",
       "      <th>gimana</th>\n",
       "      <th>go</th>\n",
       "      <th>gofood</th>\n",
       "      <th>gojek</th>\n",
       "      <th>gopay</th>\n",
       "      <th>grab</th>\n",
       "      <th>harga</th>\n",
       "      <th>hubung</th>\n",
       "      <th>isi</th>\n",
       "      <th>jalan</th>\n",
       "      <th>jam</th>\n",
       "      <th>jauh</th>\n",
       "      <th>jelas</th>\n",
       "      <th>kali</th>\n",
       "      <th>kasih</th>\n",
       "      <th>kirim</th>\n",
       "      <th>laku</th>\n",
       "      <th>lama</th>\n",
       "      <th>makan</th>\n",
       "      <th>malah</th>\n",
       "      <th>masa</th>\n",
       "      <th>minta</th>\n",
       "      <th>mitra</th>\n",
       "      <th>mohon</th>\n",
       "      <th>murah</th>\n",
       "      <th>naik</th>\n",
       "      <th>ngga</th>\n",
       "      <th>nomor</th>\n",
       "      <th>order</th>\n",
       "      <th>pesan</th>\n",
       "      <th>potong</th>\n",
       "      <th>promo</th>\n",
       "      <th>pulsa</th>\n",
       "      <th>resto</th>\n",
       "      <th>salah</th>\n",
       "      <th>saldo</th>\n",
       "      <th>sampe</th>\n",
       "      <th>sekali</th>\n",
       "      <th>selalu</th>\n",
       "      <th>semua</th>\n",
       "      <th>sistem</th>\n",
       "      <th>soal</th>\n",
       "      <th>suka</th>\n",
       "      <th>susah</th>\n",
       "      <th>tadi</th>\n",
       "      <th>terima</th>\n",
       "      <th>tiap</th>\n",
       "      <th>voucher</th>\n",
       "      <th>yg</th>\n",
       "    </tr>\n",
       "  </thead>\n",
       "  <tbody>\n",
       "    <tr>\n",
       "      <th>641</th>\n",
       "      <td>0</td>\n",
       "      <td>0</td>\n",
       "      <td>0</td>\n",
       "      <td>0</td>\n",
       "      <td>0</td>\n",
       "      <td>0</td>\n",
       "      <td>0</td>\n",
       "      <td>0</td>\n",
       "      <td>0</td>\n",
       "      <td>0</td>\n",
       "      <td>0</td>\n",
       "      <td>0</td>\n",
       "      <td>0</td>\n",
       "      <td>0</td>\n",
       "      <td>0</td>\n",
       "      <td>0</td>\n",
       "      <td>0</td>\n",
       "      <td>0</td>\n",
       "      <td>0</td>\n",
       "      <td>0</td>\n",
       "      <td>0</td>\n",
       "      <td>0</td>\n",
       "      <td>1</td>\n",
       "      <td>0</td>\n",
       "      <td>0</td>\n",
       "      <td>0</td>\n",
       "      <td>0</td>\n",
       "      <td>1</td>\n",
       "      <td>0</td>\n",
       "      <td>0</td>\n",
       "      <td>0</td>\n",
       "      <td>0</td>\n",
       "      <td>0</td>\n",
       "      <td>0</td>\n",
       "      <td>0</td>\n",
       "      <td>0</td>\n",
       "      <td>0</td>\n",
       "      <td>0</td>\n",
       "      <td>0</td>\n",
       "      <td>0</td>\n",
       "      <td>0</td>\n",
       "      <td>0</td>\n",
       "      <td>0</td>\n",
       "      <td>0</td>\n",
       "      <td>0</td>\n",
       "      <td>0</td>\n",
       "      <td>0</td>\n",
       "      <td>0</td>\n",
       "      <td>0</td>\n",
       "      <td>0</td>\n",
       "      <td>0</td>\n",
       "      <td>0</td>\n",
       "      <td>0</td>\n",
       "      <td>0</td>\n",
       "      <td>0</td>\n",
       "      <td>0</td>\n",
       "      <td>0</td>\n",
       "      <td>0</td>\n",
       "      <td>0</td>\n",
       "      <td>0</td>\n",
       "      <td>0</td>\n",
       "      <td>0</td>\n",
       "      <td>0</td>\n",
       "      <td>0</td>\n",
       "      <td>0</td>\n",
       "      <td>1</td>\n",
       "      <td>0</td>\n",
       "      <td>0</td>\n",
       "      <td>0</td>\n",
       "      <td>0</td>\n",
       "      <td>0</td>\n",
       "      <td>0</td>\n",
       "      <td>0</td>\n",
       "    </tr>\n",
       "    <tr>\n",
       "      <th>642</th>\n",
       "      <td>0</td>\n",
       "      <td>0</td>\n",
       "      <td>0</td>\n",
       "      <td>0</td>\n",
       "      <td>0</td>\n",
       "      <td>0</td>\n",
       "      <td>0</td>\n",
       "      <td>0</td>\n",
       "      <td>0</td>\n",
       "      <td>0</td>\n",
       "      <td>0</td>\n",
       "      <td>0</td>\n",
       "      <td>0</td>\n",
       "      <td>0</td>\n",
       "      <td>0</td>\n",
       "      <td>0</td>\n",
       "      <td>0</td>\n",
       "      <td>0</td>\n",
       "      <td>0</td>\n",
       "      <td>0</td>\n",
       "      <td>0</td>\n",
       "      <td>0</td>\n",
       "      <td>0</td>\n",
       "      <td>0</td>\n",
       "      <td>0</td>\n",
       "      <td>0</td>\n",
       "      <td>0</td>\n",
       "      <td>1</td>\n",
       "      <td>0</td>\n",
       "      <td>0</td>\n",
       "      <td>0</td>\n",
       "      <td>0</td>\n",
       "      <td>0</td>\n",
       "      <td>0</td>\n",
       "      <td>1</td>\n",
       "      <td>0</td>\n",
       "      <td>0</td>\n",
       "      <td>0</td>\n",
       "      <td>0</td>\n",
       "      <td>0</td>\n",
       "      <td>0</td>\n",
       "      <td>0</td>\n",
       "      <td>0</td>\n",
       "      <td>0</td>\n",
       "      <td>0</td>\n",
       "      <td>0</td>\n",
       "      <td>0</td>\n",
       "      <td>0</td>\n",
       "      <td>0</td>\n",
       "      <td>0</td>\n",
       "      <td>0</td>\n",
       "      <td>0</td>\n",
       "      <td>0</td>\n",
       "      <td>0</td>\n",
       "      <td>0</td>\n",
       "      <td>0</td>\n",
       "      <td>0</td>\n",
       "      <td>0</td>\n",
       "      <td>0</td>\n",
       "      <td>0</td>\n",
       "      <td>0</td>\n",
       "      <td>0</td>\n",
       "      <td>0</td>\n",
       "      <td>0</td>\n",
       "      <td>0</td>\n",
       "      <td>0</td>\n",
       "      <td>0</td>\n",
       "      <td>0</td>\n",
       "      <td>0</td>\n",
       "      <td>0</td>\n",
       "      <td>0</td>\n",
       "      <td>0</td>\n",
       "      <td>0</td>\n",
       "    </tr>\n",
       "    <tr>\n",
       "      <th>643</th>\n",
       "      <td>0</td>\n",
       "      <td>0</td>\n",
       "      <td>0</td>\n",
       "      <td>0</td>\n",
       "      <td>0</td>\n",
       "      <td>0</td>\n",
       "      <td>0</td>\n",
       "      <td>0</td>\n",
       "      <td>0</td>\n",
       "      <td>0</td>\n",
       "      <td>0</td>\n",
       "      <td>0</td>\n",
       "      <td>0</td>\n",
       "      <td>0</td>\n",
       "      <td>0</td>\n",
       "      <td>0</td>\n",
       "      <td>0</td>\n",
       "      <td>0</td>\n",
       "      <td>0</td>\n",
       "      <td>0</td>\n",
       "      <td>0</td>\n",
       "      <td>0</td>\n",
       "      <td>0</td>\n",
       "      <td>0</td>\n",
       "      <td>0</td>\n",
       "      <td>1</td>\n",
       "      <td>0</td>\n",
       "      <td>0</td>\n",
       "      <td>0</td>\n",
       "      <td>0</td>\n",
       "      <td>0</td>\n",
       "      <td>0</td>\n",
       "      <td>0</td>\n",
       "      <td>0</td>\n",
       "      <td>0</td>\n",
       "      <td>0</td>\n",
       "      <td>0</td>\n",
       "      <td>0</td>\n",
       "      <td>0</td>\n",
       "      <td>0</td>\n",
       "      <td>0</td>\n",
       "      <td>0</td>\n",
       "      <td>0</td>\n",
       "      <td>0</td>\n",
       "      <td>0</td>\n",
       "      <td>0</td>\n",
       "      <td>0</td>\n",
       "      <td>0</td>\n",
       "      <td>0</td>\n",
       "      <td>0</td>\n",
       "      <td>0</td>\n",
       "      <td>0</td>\n",
       "      <td>0</td>\n",
       "      <td>0</td>\n",
       "      <td>0</td>\n",
       "      <td>0</td>\n",
       "      <td>0</td>\n",
       "      <td>0</td>\n",
       "      <td>0</td>\n",
       "      <td>0</td>\n",
       "      <td>0</td>\n",
       "      <td>0</td>\n",
       "      <td>0</td>\n",
       "      <td>0</td>\n",
       "      <td>0</td>\n",
       "      <td>0</td>\n",
       "      <td>0</td>\n",
       "      <td>0</td>\n",
       "      <td>0</td>\n",
       "      <td>0</td>\n",
       "      <td>0</td>\n",
       "      <td>0</td>\n",
       "      <td>0</td>\n",
       "    </tr>\n",
       "    <tr>\n",
       "      <th>644</th>\n",
       "      <td>0</td>\n",
       "      <td>0</td>\n",
       "      <td>0</td>\n",
       "      <td>0</td>\n",
       "      <td>0</td>\n",
       "      <td>0</td>\n",
       "      <td>0</td>\n",
       "      <td>0</td>\n",
       "      <td>0</td>\n",
       "      <td>0</td>\n",
       "      <td>0</td>\n",
       "      <td>0</td>\n",
       "      <td>0</td>\n",
       "      <td>0</td>\n",
       "      <td>0</td>\n",
       "      <td>0</td>\n",
       "      <td>1</td>\n",
       "      <td>0</td>\n",
       "      <td>0</td>\n",
       "      <td>0</td>\n",
       "      <td>0</td>\n",
       "      <td>0</td>\n",
       "      <td>0</td>\n",
       "      <td>0</td>\n",
       "      <td>0</td>\n",
       "      <td>0</td>\n",
       "      <td>0</td>\n",
       "      <td>0</td>\n",
       "      <td>0</td>\n",
       "      <td>0</td>\n",
       "      <td>0</td>\n",
       "      <td>0</td>\n",
       "      <td>0</td>\n",
       "      <td>0</td>\n",
       "      <td>0</td>\n",
       "      <td>0</td>\n",
       "      <td>0</td>\n",
       "      <td>0</td>\n",
       "      <td>0</td>\n",
       "      <td>0</td>\n",
       "      <td>0</td>\n",
       "      <td>0</td>\n",
       "      <td>0</td>\n",
       "      <td>0</td>\n",
       "      <td>0</td>\n",
       "      <td>0</td>\n",
       "      <td>0</td>\n",
       "      <td>0</td>\n",
       "      <td>0</td>\n",
       "      <td>0</td>\n",
       "      <td>0</td>\n",
       "      <td>0</td>\n",
       "      <td>0</td>\n",
       "      <td>0</td>\n",
       "      <td>0</td>\n",
       "      <td>0</td>\n",
       "      <td>0</td>\n",
       "      <td>0</td>\n",
       "      <td>0</td>\n",
       "      <td>0</td>\n",
       "      <td>0</td>\n",
       "      <td>0</td>\n",
       "      <td>0</td>\n",
       "      <td>0</td>\n",
       "      <td>0</td>\n",
       "      <td>0</td>\n",
       "      <td>0</td>\n",
       "      <td>0</td>\n",
       "      <td>0</td>\n",
       "      <td>0</td>\n",
       "      <td>0</td>\n",
       "      <td>0</td>\n",
       "      <td>0</td>\n",
       "    </tr>\n",
       "    <tr>\n",
       "      <th>645</th>\n",
       "      <td>0</td>\n",
       "      <td>0</td>\n",
       "      <td>0</td>\n",
       "      <td>0</td>\n",
       "      <td>0</td>\n",
       "      <td>0</td>\n",
       "      <td>0</td>\n",
       "      <td>0</td>\n",
       "      <td>0</td>\n",
       "      <td>0</td>\n",
       "      <td>0</td>\n",
       "      <td>0</td>\n",
       "      <td>0</td>\n",
       "      <td>0</td>\n",
       "      <td>0</td>\n",
       "      <td>0</td>\n",
       "      <td>0</td>\n",
       "      <td>0</td>\n",
       "      <td>0</td>\n",
       "      <td>0</td>\n",
       "      <td>0</td>\n",
       "      <td>0</td>\n",
       "      <td>0</td>\n",
       "      <td>0</td>\n",
       "      <td>0</td>\n",
       "      <td>0</td>\n",
       "      <td>0</td>\n",
       "      <td>0</td>\n",
       "      <td>0</td>\n",
       "      <td>0</td>\n",
       "      <td>0</td>\n",
       "      <td>0</td>\n",
       "      <td>0</td>\n",
       "      <td>0</td>\n",
       "      <td>0</td>\n",
       "      <td>0</td>\n",
       "      <td>0</td>\n",
       "      <td>0</td>\n",
       "      <td>0</td>\n",
       "      <td>0</td>\n",
       "      <td>0</td>\n",
       "      <td>0</td>\n",
       "      <td>0</td>\n",
       "      <td>0</td>\n",
       "      <td>0</td>\n",
       "      <td>0</td>\n",
       "      <td>0</td>\n",
       "      <td>0</td>\n",
       "      <td>0</td>\n",
       "      <td>0</td>\n",
       "      <td>0</td>\n",
       "      <td>0</td>\n",
       "      <td>0</td>\n",
       "      <td>0</td>\n",
       "      <td>0</td>\n",
       "      <td>0</td>\n",
       "      <td>0</td>\n",
       "      <td>0</td>\n",
       "      <td>0</td>\n",
       "      <td>0</td>\n",
       "      <td>0</td>\n",
       "      <td>0</td>\n",
       "      <td>0</td>\n",
       "      <td>0</td>\n",
       "      <td>0</td>\n",
       "      <td>0</td>\n",
       "      <td>0</td>\n",
       "      <td>0</td>\n",
       "      <td>0</td>\n",
       "      <td>0</td>\n",
       "      <td>0</td>\n",
       "      <td>0</td>\n",
       "      <td>0</td>\n",
       "    </tr>\n",
       "  </tbody>\n",
       "</table>\n",
       "</div>"
      ],
      "text/plain": [
       "     akhir  akun  app  baik  bantu  ...  tadi  terima  tiap  voucher  yg\n",
       "641      0     0    0     0      0  ...     0       0     0        0   0\n",
       "642      0     0    0     0      0  ...     0       0     0        0   0\n",
       "643      0     0    0     0      0  ...     0       0     0        0   0\n",
       "644      0     0    0     0      0  ...     0       0     0        0   0\n",
       "645      0     0    0     0      0  ...     0       0     0        0   0\n",
       "\n",
       "[5 rows x 73 columns]"
      ]
     },
     "execution_count": 70,
     "metadata": {},
     "output_type": "execute_result"
    }
   ],
   "source": [
    "DTM_.tail()"
   ]
  },
  {
   "cell_type": "code",
   "execution_count": 12,
   "metadata": {
    "colab": {
     "base_uri": "https://localhost:8080/",
     "height": 241
    },
    "id": "7QhNBMHHLuB7",
    "outputId": "ca1dfc2e-c312-464e-a05a-29d66d0915ef",
    "scrolled": true
   },
   "outputs": [
    {
     "data": {
      "text/html": [
       "<div>\n",
       "<style scoped>\n",
       "    .dataframe tbody tr th:only-of-type {\n",
       "        vertical-align: middle;\n",
       "    }\n",
       "\n",
       "    .dataframe tbody tr th {\n",
       "        vertical-align: top;\n",
       "    }\n",
       "\n",
       "    .dataframe thead th {\n",
       "        text-align: right;\n",
       "    }\n",
       "</style>\n",
       "<table border=\"1\" class=\"dataframe\">\n",
       "  <thead>\n",
       "    <tr style=\"text-align: right;\">\n",
       "      <th></th>\n",
       "      <th>key_0</th>\n",
       "      <th>akhir</th>\n",
       "      <th>akun</th>\n",
       "      <th>app</th>\n",
       "      <th>baik</th>\n",
       "      <th>bantu</th>\n",
       "      <th>banyak</th>\n",
       "      <th>baru</th>\n",
       "      <th>beli</th>\n",
       "      <th>biasa</th>\n",
       "      <th>...</th>\n",
       "      <th>sistem</th>\n",
       "      <th>soal</th>\n",
       "      <th>suka</th>\n",
       "      <th>susah</th>\n",
       "      <th>tadi</th>\n",
       "      <th>terima</th>\n",
       "      <th>tiap</th>\n",
       "      <th>voucher</th>\n",
       "      <th>yg</th>\n",
       "      <th>Kategori Tweet</th>\n",
       "    </tr>\n",
       "  </thead>\n",
       "  <tbody>\n",
       "    <tr>\n",
       "      <th>641</th>\n",
       "      <td>641</td>\n",
       "      <td>0</td>\n",
       "      <td>0</td>\n",
       "      <td>0</td>\n",
       "      <td>0</td>\n",
       "      <td>0</td>\n",
       "      <td>0</td>\n",
       "      <td>0</td>\n",
       "      <td>0</td>\n",
       "      <td>0</td>\n",
       "      <td>...</td>\n",
       "      <td>0</td>\n",
       "      <td>1</td>\n",
       "      <td>0</td>\n",
       "      <td>0</td>\n",
       "      <td>0</td>\n",
       "      <td>0</td>\n",
       "      <td>0</td>\n",
       "      <td>0</td>\n",
       "      <td>0</td>\n",
       "      <td>1</td>\n",
       "    </tr>\n",
       "    <tr>\n",
       "      <th>642</th>\n",
       "      <td>642</td>\n",
       "      <td>0</td>\n",
       "      <td>0</td>\n",
       "      <td>0</td>\n",
       "      <td>0</td>\n",
       "      <td>0</td>\n",
       "      <td>0</td>\n",
       "      <td>0</td>\n",
       "      <td>0</td>\n",
       "      <td>0</td>\n",
       "      <td>...</td>\n",
       "      <td>0</td>\n",
       "      <td>0</td>\n",
       "      <td>0</td>\n",
       "      <td>0</td>\n",
       "      <td>0</td>\n",
       "      <td>0</td>\n",
       "      <td>0</td>\n",
       "      <td>0</td>\n",
       "      <td>0</td>\n",
       "      <td>1</td>\n",
       "    </tr>\n",
       "    <tr>\n",
       "      <th>643</th>\n",
       "      <td>643</td>\n",
       "      <td>0</td>\n",
       "      <td>0</td>\n",
       "      <td>0</td>\n",
       "      <td>0</td>\n",
       "      <td>0</td>\n",
       "      <td>0</td>\n",
       "      <td>0</td>\n",
       "      <td>0</td>\n",
       "      <td>0</td>\n",
       "      <td>...</td>\n",
       "      <td>0</td>\n",
       "      <td>0</td>\n",
       "      <td>0</td>\n",
       "      <td>0</td>\n",
       "      <td>0</td>\n",
       "      <td>0</td>\n",
       "      <td>0</td>\n",
       "      <td>0</td>\n",
       "      <td>0</td>\n",
       "      <td>0</td>\n",
       "    </tr>\n",
       "    <tr>\n",
       "      <th>644</th>\n",
       "      <td>644</td>\n",
       "      <td>0</td>\n",
       "      <td>0</td>\n",
       "      <td>0</td>\n",
       "      <td>0</td>\n",
       "      <td>0</td>\n",
       "      <td>0</td>\n",
       "      <td>0</td>\n",
       "      <td>0</td>\n",
       "      <td>0</td>\n",
       "      <td>...</td>\n",
       "      <td>0</td>\n",
       "      <td>0</td>\n",
       "      <td>0</td>\n",
       "      <td>0</td>\n",
       "      <td>0</td>\n",
       "      <td>0</td>\n",
       "      <td>0</td>\n",
       "      <td>0</td>\n",
       "      <td>0</td>\n",
       "      <td>0</td>\n",
       "    </tr>\n",
       "    <tr>\n",
       "      <th>645</th>\n",
       "      <td>645</td>\n",
       "      <td>0</td>\n",
       "      <td>0</td>\n",
       "      <td>0</td>\n",
       "      <td>0</td>\n",
       "      <td>0</td>\n",
       "      <td>0</td>\n",
       "      <td>0</td>\n",
       "      <td>0</td>\n",
       "      <td>0</td>\n",
       "      <td>...</td>\n",
       "      <td>0</td>\n",
       "      <td>0</td>\n",
       "      <td>0</td>\n",
       "      <td>0</td>\n",
       "      <td>0</td>\n",
       "      <td>0</td>\n",
       "      <td>0</td>\n",
       "      <td>0</td>\n",
       "      <td>0</td>\n",
       "      <td>0</td>\n",
       "    </tr>\n",
       "  </tbody>\n",
       "</table>\n",
       "<p>5 rows × 75 columns</p>\n",
       "</div>"
      ],
      "text/plain": [
       "     key_0  akhir  akun  app  baik  bantu  banyak  baru  beli  biasa  ...  \\\n",
       "641    641      0     0    0     0      0       0     0     0      0  ...   \n",
       "642    642      0     0    0     0      0       0     0     0      0  ...   \n",
       "643    643      0     0    0     0      0       0     0     0      0  ...   \n",
       "644    644      0     0    0     0      0       0     0     0      0  ...   \n",
       "645    645      0     0    0     0      0       0     0     0      0  ...   \n",
       "\n",
       "     sistem  soal  suka  susah  tadi  terima  tiap  voucher  yg  \\\n",
       "641       0     1     0      0     0       0     0        0   0   \n",
       "642       0     0     0      0     0       0     0        0   0   \n",
       "643       0     0     0      0     0       0     0        0   0   \n",
       "644       0     0     0      0     0       0     0        0   0   \n",
       "645       0     0     0      0     0       0     0        0   0   \n",
       "\n",
       "     Kategori Tweet  \n",
       "641               1  \n",
       "642               1  \n",
       "643               0  \n",
       "644               0  \n",
       "645               0  \n",
       "\n",
       "[5 rows x 75 columns]"
      ]
     },
     "execution_count": 12,
     "metadata": {},
     "output_type": "execute_result"
    }
   ],
   "source": [
    "fix=DTM_.merge(data['Kategori Tweet'], how='left',on=DTM_.index)\n",
    "fix.tail()"
   ]
  },
  {
   "cell_type": "code",
   "execution_count": 13,
   "metadata": {
    "colab": {
     "base_uri": "https://localhost:8080/",
     "height": 241
    },
    "id": "EsxBJwoBfWLj",
    "outputId": "a6519951-a9bd-4cfb-d345-7a650fd79f4a"
   },
   "outputs": [
    {
     "data": {
      "text/html": [
       "<div>\n",
       "<style scoped>\n",
       "    .dataframe tbody tr th:only-of-type {\n",
       "        vertical-align: middle;\n",
       "    }\n",
       "\n",
       "    .dataframe tbody tr th {\n",
       "        vertical-align: top;\n",
       "    }\n",
       "\n",
       "    .dataframe thead th {\n",
       "        text-align: right;\n",
       "    }\n",
       "</style>\n",
       "<table border=\"1\" class=\"dataframe\">\n",
       "  <thead>\n",
       "    <tr style=\"text-align: right;\">\n",
       "      <th></th>\n",
       "      <th>akhir</th>\n",
       "      <th>akun</th>\n",
       "      <th>app</th>\n",
       "      <th>baik</th>\n",
       "      <th>bantu</th>\n",
       "      <th>banyak</th>\n",
       "      <th>baru</th>\n",
       "      <th>beli</th>\n",
       "      <th>biasa</th>\n",
       "      <th>buka</th>\n",
       "      <th>...</th>\n",
       "      <th>sistem</th>\n",
       "      <th>soal</th>\n",
       "      <th>suka</th>\n",
       "      <th>susah</th>\n",
       "      <th>tadi</th>\n",
       "      <th>terima</th>\n",
       "      <th>tiap</th>\n",
       "      <th>voucher</th>\n",
       "      <th>yg</th>\n",
       "      <th>Kategori Tweet</th>\n",
       "    </tr>\n",
       "  </thead>\n",
       "  <tbody>\n",
       "    <tr>\n",
       "      <th>641</th>\n",
       "      <td>0</td>\n",
       "      <td>0</td>\n",
       "      <td>0</td>\n",
       "      <td>0</td>\n",
       "      <td>0</td>\n",
       "      <td>0</td>\n",
       "      <td>0</td>\n",
       "      <td>0</td>\n",
       "      <td>0</td>\n",
       "      <td>0</td>\n",
       "      <td>...</td>\n",
       "      <td>0</td>\n",
       "      <td>1</td>\n",
       "      <td>0</td>\n",
       "      <td>0</td>\n",
       "      <td>0</td>\n",
       "      <td>0</td>\n",
       "      <td>0</td>\n",
       "      <td>0</td>\n",
       "      <td>0</td>\n",
       "      <td>1</td>\n",
       "    </tr>\n",
       "    <tr>\n",
       "      <th>642</th>\n",
       "      <td>0</td>\n",
       "      <td>0</td>\n",
       "      <td>0</td>\n",
       "      <td>0</td>\n",
       "      <td>0</td>\n",
       "      <td>0</td>\n",
       "      <td>0</td>\n",
       "      <td>0</td>\n",
       "      <td>0</td>\n",
       "      <td>0</td>\n",
       "      <td>...</td>\n",
       "      <td>0</td>\n",
       "      <td>0</td>\n",
       "      <td>0</td>\n",
       "      <td>0</td>\n",
       "      <td>0</td>\n",
       "      <td>0</td>\n",
       "      <td>0</td>\n",
       "      <td>0</td>\n",
       "      <td>0</td>\n",
       "      <td>1</td>\n",
       "    </tr>\n",
       "    <tr>\n",
       "      <th>643</th>\n",
       "      <td>0</td>\n",
       "      <td>0</td>\n",
       "      <td>0</td>\n",
       "      <td>0</td>\n",
       "      <td>0</td>\n",
       "      <td>0</td>\n",
       "      <td>0</td>\n",
       "      <td>0</td>\n",
       "      <td>0</td>\n",
       "      <td>0</td>\n",
       "      <td>...</td>\n",
       "      <td>0</td>\n",
       "      <td>0</td>\n",
       "      <td>0</td>\n",
       "      <td>0</td>\n",
       "      <td>0</td>\n",
       "      <td>0</td>\n",
       "      <td>0</td>\n",
       "      <td>0</td>\n",
       "      <td>0</td>\n",
       "      <td>0</td>\n",
       "    </tr>\n",
       "    <tr>\n",
       "      <th>644</th>\n",
       "      <td>0</td>\n",
       "      <td>0</td>\n",
       "      <td>0</td>\n",
       "      <td>0</td>\n",
       "      <td>0</td>\n",
       "      <td>0</td>\n",
       "      <td>0</td>\n",
       "      <td>0</td>\n",
       "      <td>0</td>\n",
       "      <td>0</td>\n",
       "      <td>...</td>\n",
       "      <td>0</td>\n",
       "      <td>0</td>\n",
       "      <td>0</td>\n",
       "      <td>0</td>\n",
       "      <td>0</td>\n",
       "      <td>0</td>\n",
       "      <td>0</td>\n",
       "      <td>0</td>\n",
       "      <td>0</td>\n",
       "      <td>0</td>\n",
       "    </tr>\n",
       "    <tr>\n",
       "      <th>645</th>\n",
       "      <td>0</td>\n",
       "      <td>0</td>\n",
       "      <td>0</td>\n",
       "      <td>0</td>\n",
       "      <td>0</td>\n",
       "      <td>0</td>\n",
       "      <td>0</td>\n",
       "      <td>0</td>\n",
       "      <td>0</td>\n",
       "      <td>0</td>\n",
       "      <td>...</td>\n",
       "      <td>0</td>\n",
       "      <td>0</td>\n",
       "      <td>0</td>\n",
       "      <td>0</td>\n",
       "      <td>0</td>\n",
       "      <td>0</td>\n",
       "      <td>0</td>\n",
       "      <td>0</td>\n",
       "      <td>0</td>\n",
       "      <td>0</td>\n",
       "    </tr>\n",
       "  </tbody>\n",
       "</table>\n",
       "<p>5 rows × 74 columns</p>\n",
       "</div>"
      ],
      "text/plain": [
       "     akhir  akun  app  baik  bantu  banyak  baru  beli  biasa  buka  ...  \\\n",
       "641      0     0    0     0      0       0     0     0      0     0  ...   \n",
       "642      0     0    0     0      0       0     0     0      0     0  ...   \n",
       "643      0     0    0     0      0       0     0     0      0     0  ...   \n",
       "644      0     0    0     0      0       0     0     0      0     0  ...   \n",
       "645      0     0    0     0      0       0     0     0      0     0  ...   \n",
       "\n",
       "     sistem  soal  suka  susah  tadi  terima  tiap  voucher  yg  \\\n",
       "641       0     1     0      0     0       0     0        0   0   \n",
       "642       0     0     0      0     0       0     0        0   0   \n",
       "643       0     0     0      0     0       0     0        0   0   \n",
       "644       0     0     0      0     0       0     0        0   0   \n",
       "645       0     0     0      0     0       0     0        0   0   \n",
       "\n",
       "     Kategori Tweet  \n",
       "641               1  \n",
       "642               1  \n",
       "643               0  \n",
       "644               0  \n",
       "645               0  \n",
       "\n",
       "[5 rows x 74 columns]"
      ]
     },
     "execution_count": 13,
     "metadata": {},
     "output_type": "execute_result"
    }
   ],
   "source": [
    "fix=fix.drop(['key_0'], axis = 1)\n",
    "fix.tail()"
   ]
  },
  {
   "cell_type": "code",
   "execution_count": null,
   "metadata": {
    "colab": {
     "base_uri": "https://localhost:8080/",
     "height": 17
    },
    "id": "1jWr6YZAEm5z",
    "outputId": "d2984299-b6de-45ba-f9aa-249642e1bf13"
   },
   "outputs": [
    {
     "data": {
      "application/javascript": [
       "\n",
       "    async function download(id, filename, size) {\n",
       "      if (!google.colab.kernel.accessAllowed) {\n",
       "        return;\n",
       "      }\n",
       "      const div = document.createElement('div');\n",
       "      const label = document.createElement('label');\n",
       "      label.textContent = `Downloading \"${filename}\": `;\n",
       "      div.appendChild(label);\n",
       "      const progress = document.createElement('progress');\n",
       "      progress.max = size;\n",
       "      div.appendChild(progress);\n",
       "      document.body.appendChild(div);\n",
       "\n",
       "      const buffers = [];\n",
       "      let downloaded = 0;\n",
       "\n",
       "      const channel = await google.colab.kernel.comms.open(id);\n",
       "      // Send a message to notify the kernel that we're ready.\n",
       "      channel.send({})\n",
       "\n",
       "      for await (const message of channel.messages) {\n",
       "        // Send a message to notify the kernel that we're ready.\n",
       "        channel.send({})\n",
       "        if (message.buffers) {\n",
       "          for (const buffer of message.buffers) {\n",
       "            buffers.push(buffer);\n",
       "            downloaded += buffer.byteLength;\n",
       "            progress.value = downloaded;\n",
       "          }\n",
       "        }\n",
       "      }\n",
       "      const blob = new Blob(buffers, {type: 'application/binary'});\n",
       "      const a = document.createElement('a');\n",
       "      a.href = window.URL.createObjectURL(blob);\n",
       "      a.download = filename;\n",
       "      div.appendChild(a);\n",
       "      a.click();\n",
       "      div.remove();\n",
       "    }\n",
       "  "
      ],
      "text/plain": [
       "<IPython.core.display.Javascript object>"
      ]
     },
     "metadata": {},
     "output_type": "display_data"
    },
    {
     "data": {
      "application/javascript": [
       "download(\"download_1616e3f1-da4e-40fb-acfb-64d0f5e36b1f\", \"fix.csv\", 98516)"
      ],
      "text/plain": [
       "<IPython.core.display.Javascript object>"
      ]
     },
     "metadata": {},
     "output_type": "display_data"
    }
   ],
   "source": [
    "fix.to_csv('fix.csv')\n",
    "files.download('fix.csv')"
   ]
  },
  {
   "cell_type": "code",
   "execution_count": 14,
   "metadata": {
    "id": "OoIiLLCpJuLn"
   },
   "outputs": [],
   "source": [
    "from __future__ import print_function\n",
    "from sklearn.model_selection import train_test_split,cross_val_score,StratifiedKFold,KFold,ShuffleSplit,StratifiedShuffleSplit\n",
    "from sklearn.feature_selection import SelectPercentile, f_classif\n",
    "from sklearn.svm import SVC\n",
    "from sklearn import svm, datasets\n",
    "from sklearn.model_selection import GridSearchCV\n",
    "from sklearn.metrics import classification_report\n",
    "from sklearn.utils import shuffle"
   ]
  },
  {
   "cell_type": "code",
   "execution_count": 15,
   "metadata": {
    "colab": {
     "base_uri": "https://localhost:8080/"
    },
    "id": "U3YHg2gK82s0",
    "outputId": "1bae9091-a6ee-4414-9516-b1ffc4d32d45"
   },
   "outputs": [
    {
     "data": {
      "text/plain": [
       "0    0\n",
       "1    0\n",
       "2    0\n",
       "3    0\n",
       "4    1\n",
       "Name: Kategori Tweet, dtype: int64"
      ]
     },
     "execution_count": 15,
     "metadata": {},
     "output_type": "execute_result"
    }
   ],
   "source": [
    "gjsentimen = fix['Kategori Tweet']\n",
    "gjsentimen.head()"
   ]
  },
  {
   "cell_type": "code",
   "execution_count": 16,
   "metadata": {
    "id": "Xew76gMODQti"
   },
   "outputs": [],
   "source": [
    "tweet=fix.drop(\"Kategori Tweet\",axis=1)"
   ]
  },
  {
   "cell_type": "code",
   "execution_count": 17,
   "metadata": {
    "id": "3nuGCsLCCg4R"
   },
   "outputs": [],
   "source": [
    "#Metode CV\n",
    "kf5 = KFold(n_splits=5, shuffle=False)\n",
    "kf5.get_n_splits(tweet,gjsentimen)\n",
    "\n",
    "Kfold=KFold(n_splits=5, random_state=None, shuffle=False)\n",
    "for train_index, test_index in kf5.split(gjsentimen):\n",
    "    x_train_1, x_test_1 = tweet.iloc[train_index], tweet.iloc[test_index]\n",
    "    y_train_1, y_test_1 = gjsentimen[train_index], gjsentimen[test_index]"
   ]
  },
  {
   "cell_type": "code",
   "execution_count": 47,
   "metadata": {
    "colab": {
     "base_uri": "https://localhost:8080/"
    },
    "id": "CQ9sIdAF8gNu",
    "outputId": "d6fd7ceb-7b11-4ed2-ee87-be0ca187e4a7"
   },
   "outputs": [
    {
     "name": "stdout",
     "output_type": "stream",
     "text": [
      "Accuracy: 80.66%\n",
      "Spesification: 50.93%\n",
      "Sensitivity: 94.10%\n",
      "Precision: 77.70%\n",
      "AUC: 72.52%\n"
     ]
    }
   ],
   "source": [
    "### METODE CV ###\n",
    "#SVM Linear\n",
    "#DATA TRAINING\n",
    "svclassifier_linear_2 =  SVC(kernel='linear')\n",
    "from sklearn.metrics import confusion_matrix, accuracy_score, roc_auc_score\n",
    "from sklearn import model_selection\n",
    "from sklearn.model_selection import KFold, cross_val_score\n",
    "\n",
    "cm=[]\n",
    "total=[]\n",
    "ac=[]\n",
    "se=[]\n",
    "sp=[]\n",
    "\n",
    "n=5\n",
    "\n",
    "for j in range (n):\n",
    "    \n",
    "    svclassifier_linear_2 = svclassifier_linear_2.fit(x_train_1,y_train_1)\n",
    "    y_pred2 = svclassifier_linear_2.predict(x_train_1)\n",
    "    cm.append((confusion_matrix(y_train_1, y_pred2)).astype(float))\n",
    "    total.append(sum(sum(cm[j])))\n",
    "    ac.append((cm[j][0,0]+cm[j][1,1])/total[j])\n",
    "    se.append(cm[j][0,0]/(cm[j][0,0]+cm[j][0,1]))\n",
    "    sp.append(cm[j][1,1]/(cm[j][1,0]+cm[j][1,1]))\n",
    "\n",
    "#menghitung akurasi, spesifikasi, dan sensitiviti\n",
    "akurasi2=np.mean(ac)\n",
    "spesifisiti2=np.mean(sp)\n",
    "sensitiviti2=np.mean(se)\n",
    "\n",
    "df_k2=pd.DataFrame()\n",
    "test=dict()\n",
    "for j in range (3):\n",
    "    test[j]=[]\n",
    "for i in range (n):\n",
    "    test[0].append(ac[i])\n",
    "    test[1].append(sp[i])\n",
    "    test[2].append(se[i])\n",
    "for i in range (3):\n",
    "    df_k2=pd.concat([df_k2,pd.DataFrame(test[i])],axis=1)\n",
    "df_k2.columns=['Akurasi','Spesitifitas','Sensitivitas']\n",
    "df_k2\n",
    "\n",
    "#menghitung auc\n",
    "auc_svmlinear2= round(roc_auc_score(y_train_1, y_pred2)*100, 2)\n",
    "auc_svmlinear2\n",
    "\n",
    "presisi = model_selection.cross_val_score(svclassifier_linear_2, x_train_1, y_pred2, cv=Kfold, scoring='precision')\n",
    "Presisi=presisi.mean()\n",
    "\n",
    "print(\"Accuracy: %.2f%%\" % (akurasi2*100.0))\n",
    "print(\"Spesification: %.2f%%\" % (spesifisiti2*100.0))\n",
    "print(\"Sensitivity: %.2f%%\" % (sensitiviti2*100.0))\n",
    "print(\"Precision: %.2f%%\" % (Presisi*100.0))\n",
    "print(\"AUC: %.2f%%\" % (auc_svmlinear2))"
   ]
  },
  {
   "cell_type": "code",
   "execution_count": 48,
   "metadata": {
    "colab": {
     "base_uri": "https://localhost:8080/"
    },
    "id": "7aVBNv878hU6",
    "outputId": "ff3873fc-7344-4a79-9bc4-2f03e012052a"
   },
   "outputs": [
    {
     "name": "stdout",
     "output_type": "stream",
     "text": [
      "[[335  21]\n",
      " [ 79  82]]\n",
      "              precision    recall  f1-score   support\n",
      "\n",
      "           0       0.81      0.94      0.87       356\n",
      "           1       0.80      0.51      0.62       161\n",
      "\n",
      "    accuracy                           0.81       517\n",
      "   macro avg       0.80      0.73      0.75       517\n",
      "weighted avg       0.81      0.81      0.79       517\n",
      "\n"
     ]
    }
   ],
   "source": [
    "from sklearn.metrics import classification_report, confusion_matrix\n",
    "print(confusion_matrix(y_train_1, y_pred2))\n",
    "print(classification_report(y_train_1, y_pred2))"
   ]
  },
  {
   "cell_type": "code",
   "execution_count": 49,
   "metadata": {
    "colab": {
     "base_uri": "https://localhost:8080/"
    },
    "id": "7EQk8tUV8r0Q",
    "outputId": "63ac3467-8a47-40a1-c0f4-4d0f6f8bba43"
   },
   "outputs": [
    {
     "name": "stdout",
     "output_type": "stream",
     "text": [
      "[[335  21]\n",
      " [ 79  82]]\n"
     ]
    }
   ],
   "source": [
    "print(confusion_matrix(y_train_1, y_pred2))"
   ]
  },
  {
   "cell_type": "code",
   "execution_count": 24,
   "metadata": {
    "colab": {
     "base_uri": "https://localhost:8080/",
     "height": 295
    },
    "id": "sODu7Xnm8vj-",
    "outputId": "07752cc6-e2db-4481-9d9d-f7b4b199225a"
   },
   "outputs": [
    {
     "data": {
      "image/png": "[encoded data removed]",
      "text/plain": [
       "<Figure size 432x288 with 1 Axes>"
      ]
     },
     "metadata": {
      "needs_background": "light"
     },
     "output_type": "display_data"
    }
   ],
   "source": [
    "import matplotlib.pyplot as plt\n",
    "from sklearn.metrics import roc_curve, auc\n",
    "\n",
    "false_positive_rate1, true_positive_rate1, thresholds=roc_curve(y_train_1, y_pred2)\n",
    "roc_auc3 = auc(false_positive_rate1, true_positive_rate1)\n",
    "roc_auc3\n",
    " \n",
    "plt.plot(false_positive_rate1, true_positive_rate1, \"b\", label='AUC = %0.4f' % roc_auc3)\n",
    "plt.title('ROC Curve')\n",
    "plt.legend(loc = 'lower right')\n",
    "plt.plot([0,1], [0,1], 'r--') #garis linier merah\n",
    "plt.xlim([0,1])\n",
    "plt.ylim([0,1])\n",
    "plt.ylabel('TPR')\n",
    "plt.xlabel('FPR')\n",
    "plt.show()"
   ]
  },
  {
   "cell_type": "code",
   "execution_count": 50,
   "metadata": {
    "colab": {
     "base_uri": "https://localhost:8080/"
    },
    "id": "J_nto-FZ82CD",
    "outputId": "71ae0d4d-9ea7-4c14-9c65-97e0f7aefaaf"
   },
   "outputs": [
    {
     "name": "stdout",
     "output_type": "stream",
     "text": [
      "Accuracy: 53.49%\n",
      "Spesification: 30.86%\n",
      "Sensitivity: 91.67%\n",
      "Precision: 83.43%\n",
      "AUC: 61.27%\n"
     ]
    }
   ],
   "source": [
    "### METODE CV ###\n",
    "#SVM Linear\n",
    "#DATA TESTING\n",
    "svclassifier_linear =  SVC(kernel='linear')\n",
    "from sklearn.metrics import confusion_matrix, accuracy_score, roc_auc_score\n",
    "from sklearn import model_selection\n",
    "from sklearn.model_selection import KFold, cross_val_score\n",
    "\n",
    "cm=[]\n",
    "total=[]\n",
    "ac=[]\n",
    "se=[]\n",
    "sp=[]\n",
    "\n",
    "n=5\n",
    "\n",
    "for j in range (n):\n",
    "    \n",
    "    svclassifier_linear = svclassifier_linear.fit(x_train_1,y_train_1)\n",
    "    y_pred1 = svclassifier_linear.predict(x_test_1)\n",
    "    cm.append((confusion_matrix(y_test_1, y_pred1)).astype(float))\n",
    "    total.append(sum(sum(cm[j])))\n",
    "    ac.append((cm[j][0,0]+cm[j][1,1])/total[j])\n",
    "    se.append(cm[j][0,0]/(cm[j][0,0]+cm[j][0,1]))\n",
    "    sp.append(cm[j][1,1]/(cm[j][1,0]+cm[j][1,1]))\n",
    "\n",
    "#menghitung akurasi, spesifikasi, dan sensitiviti\n",
    "akurasi1=np.mean(ac)\n",
    "spesifisiti1=np.mean(sp)\n",
    "sensitiviti1=np.mean(se)\n",
    "\n",
    "df_k4=pd.DataFrame()\n",
    "test=dict()\n",
    "for j in range (3):\n",
    "    test[j]=[]\n",
    "for i in range (n):\n",
    "    test[0].append(ac[i])\n",
    "    test[1].append(sp[i])\n",
    "    test[2].append(se[i])\n",
    "for i in range (3):\n",
    "    df_k4=pd.concat([df_k4,pd.DataFrame(test[i])],axis=1)\n",
    "df_k4.columns=['Akurasi','Spesitifitas','Sensitivitas']\n",
    "df_k4\n",
    "\n",
    "#menghitung auc\n",
    "auc_svmlinear1= round(roc_auc_score(y_test_1, y_pred1)*100, 2)\n",
    "auc_svmlinear1\n",
    "\n",
    "presisi = model_selection.cross_val_score(svclassifier_linear, x_test_1, y_pred1, cv=Kfold, scoring='precision')\n",
    "Presisi=presisi.mean()\n",
    "\n",
    "print(\"Accuracy: %.2f%%\" % (akurasi1*100.0))\n",
    "print(\"Spesification: %.2f%%\" % (spesifisiti1*100.0))\n",
    "print(\"Sensitivity: %.2f%%\" % (sensitiviti1*100.0))\n",
    "print(\"Precision: %.2f%%\" % (Presisi*100.0))\n",
    "print(\"AUC: %.2f%%\" % (auc_svmlinear1))"
   ]
  },
  {
   "cell_type": "code",
   "execution_count": 51,
   "metadata": {
    "colab": {
     "base_uri": "https://localhost:8080/"
    },
    "id": "P7nEFb9t86av",
    "outputId": "10b0fb1d-75dc-408b-8025-f9e2831abed9"
   },
   "outputs": [
    {
     "name": "stdout",
     "output_type": "stream",
     "text": [
      "[[44  4]\n",
      " [56 25]]\n",
      "              precision    recall  f1-score   support\n",
      "\n",
      "           0       0.44      0.92      0.59        48\n",
      "           1       0.86      0.31      0.45        81\n",
      "\n",
      "    accuracy                           0.53       129\n",
      "   macro avg       0.65      0.61      0.52       129\n",
      "weighted avg       0.71      0.53      0.51       129\n",
      "\n"
     ]
    }
   ],
   "source": [
    "from sklearn.metrics import classification_report, confusion_matrix\n",
    "print(confusion_matrix(y_test_1, y_pred1))\n",
    "print(classification_report(y_test_1, y_pred1))"
   ]
  },
  {
   "cell_type": "code",
   "execution_count": 52,
   "metadata": {
    "colab": {
     "base_uri": "https://localhost:8080/"
    },
    "id": "d2oCZzVg89Q0",
    "outputId": "e324c55d-ec40-45b6-e086-1dfd1af4aa62"
   },
   "outputs": [
    {
     "name": "stdout",
     "output_type": "stream",
     "text": [
      "[[44  4]\n",
      " [56 25]]\n"
     ]
    }
   ],
   "source": [
    "print(confusion_matrix(y_test_1, y_pred1))"
   ]
  },
  {
   "cell_type": "code",
   "execution_count": 54,
   "metadata": {
    "colab": {
     "base_uri": "https://localhost:8080/",
     "height": 295
    },
    "id": "sbMx3QG28_8J",
    "outputId": "0ff57e52-200d-46e7-c32b-4b31dd625db9"
   },
   "outputs": [
    {
     "data": {
      "image/png": "[encoded data removed]",
      "text/plain": [
       "<Figure size 432x288 with 1 Axes>"
      ]
     },
     "metadata": {
      "needs_background": "light"
     },
     "output_type": "display_data"
    }
   ],
   "source": [
    "import matplotlib.pyplot as plt\n",
    "from sklearn.metrics import roc_curve, auc\n",
    "\n",
    "false_positive_rate3, true_positive_rate3, thresholds=roc_curve(y_test_1, y_pred1)\n",
    "roc_auc1 = auc(false_positive_rate3, true_positive_rate3)\n",
    "roc_auc1\n",
    " \n",
    "plt.plot(false_positive_rate3, true_positive_rate3, \"b\", label='AUC = %0.4f' % roc_auc1)\n",
    "plt.title('ROC Curve')\n",
    "plt.legend(loc = 'lower right')\n",
    "plt.plot([0,1], [0,1], 'r--') #garis linier merah\n",
    "plt.xlim([0,1])\n",
    "plt.ylim([0,1])\n",
    "plt.ylabel('TPR')\n",
    "plt.xlabel('FPR')\n",
    "plt.show()"
   ]
  },
  {
   "cell_type": "code",
   "execution_count": 18,
   "metadata": {
    "colab": {
     "base_uri": "https://localhost:8080/"
    },
    "id": "5_qIC8iHG7kE",
    "outputId": "9db8d93f-90c2-4314-a27a-6de34272df90"
   },
   "outputs": [
    {
     "name": "stdout",
     "output_type": "stream",
     "text": [
      "Accuracy: 77.56%\n",
      "Spesification: 72.05%\n",
      "Sensitivity: 80.06%\n",
      "Precision: 84.95%\n",
      "AUC: 76.05%\n"
     ]
    }
   ],
   "source": [
    "### METODE CV ###\n",
    "#NB\n",
    "#DATA TRAINING\n",
    "\n",
    "from sklearn.metrics import confusion_matrix, accuracy_score, roc_auc_score\n",
    "from sklearn import model_selection\n",
    "from sklearn import naive_bayes\n",
    "from sklearn.model_selection import KFold, cross_val_score\n",
    "from sklearn.naive_bayes import BernoulliNB\n",
    "\n",
    "NB_train =  BernoulliNB()\n",
    "\n",
    "cm=[]\n",
    "total=[]\n",
    "ac=[]\n",
    "se=[]\n",
    "sp=[]\n",
    "\n",
    "n=5\n",
    "\n",
    "for j in range (n):\n",
    "    \n",
    "    NB_train = NB_train.fit(x_train_1,y_train_1)\n",
    "    y_pred3 = NB_train.predict(x_train_1)\n",
    "    cm.append((confusion_matrix(y_train_1, y_pred3)).astype(float))\n",
    "    total.append(sum(sum(cm[j])))\n",
    "    ac.append((cm[j][0,0]+cm[j][1,1])/total[j])\n",
    "    se.append(cm[j][0,0]/(cm[j][0,0]+cm[j][0,1]))\n",
    "    sp.append(cm[j][1,1]/(cm[j][1,0]+cm[j][1,1]))\n",
    "\n",
    "#menghitung akurasi, spesifikasi, dan sensitiviti\n",
    "akurasi3=np.mean(ac)\n",
    "spesifisiti3=np.mean(sp)\n",
    "sensitiviti3=np.mean(se)\n",
    "\n",
    "df_k3=pd.DataFrame()\n",
    "test=dict()\n",
    "for j in range (3):\n",
    "    test[j]=[]\n",
    "for i in range (n):\n",
    "    test[0].append(ac[i])\n",
    "    test[1].append(sp[i])\n",
    "    test[2].append(se[i])\n",
    "for i in range (3):\n",
    "    df_k3=pd.concat([df_k3,pd.DataFrame(test[i])],axis=1)\n",
    "df_k3.columns=['Akurasi','Spesitifitas','Sensitivitas']\n",
    "df_k3\n",
    "\n",
    "#menghitung auc\n",
    "auc_NB_train= round(roc_auc_score(y_train_1, y_pred3)*100, 2)\n",
    "auc_NB_train\n",
    "\n",
    "presisi = model_selection.cross_val_score(NB_train, x_train_1, y_pred3, cv=Kfold, scoring='precision')\n",
    "Presisi=presisi.mean()\n",
    "\n",
    "print(\"Accuracy: %.2f%%\" % (akurasi3*100.0))\n",
    "print(\"Spesification: %.2f%%\" % (spesifisiti3*100.0))\n",
    "print(\"Sensitivity: %.2f%%\" % (sensitiviti3*100.0))\n",
    "print(\"Precision: %.2f%%\" % (Presisi*100.0))\n",
    "print(\"AUC: %.2f%%\" % (auc_NB_train))"
   ]
  },
  {
   "cell_type": "code",
   "execution_count": 19,
   "metadata": {
    "colab": {
     "base_uri": "https://localhost:8080/"
    },
    "id": "FnKENQTlJjq9",
    "outputId": "48602e25-d22f-4f4d-a46e-1423b7e3a0a5"
   },
   "outputs": [
    {
     "name": "stdout",
     "output_type": "stream",
     "text": [
      "[[285  71]\n",
      " [ 45 116]]\n",
      "              precision    recall  f1-score   support\n",
      "\n",
      "           0       0.86      0.80      0.83       356\n",
      "           1       0.62      0.72      0.67       161\n",
      "\n",
      "    accuracy                           0.78       517\n",
      "   macro avg       0.74      0.76      0.75       517\n",
      "weighted avg       0.79      0.78      0.78       517\n",
      "\n"
     ]
    }
   ],
   "source": [
    "from sklearn.metrics import classification_report, confusion_matrix\n",
    "print(confusion_matrix(y_train_1, y_pred3))\n",
    "print(classification_report(y_train_1, y_pred3))"
   ]
  },
  {
   "cell_type": "code",
   "execution_count": 21,
   "metadata": {
    "colab": {
     "base_uri": "https://localhost:8080/",
     "height": 295
    },
    "id": "733_DBVFJuVB",
    "outputId": "df3d2f7d-5d21-43d2-d4b6-a8bf831bf076"
   },
   "outputs": [
    {
     "data": {
      "image/png": "[encoded data removed]",
      "text/plain": [
       "<Figure size 432x288 with 1 Axes>"
      ]
     },
     "metadata": {
      "needs_background": "light"
     },
     "output_type": "display_data"
    }
   ],
   "source": [
    "import matplotlib.pyplot as plt\n",
    "from sklearn.metrics import roc_curve, auc\n",
    "\n",
    "false_positive_rate4, true_positive_rate4, thresholds=roc_curve(y_train_1, y_pred3)\n",
    "roc_auc3 = auc(false_positive_rate4, true_positive_rate4)\n",
    "roc_auc3\n",
    " \n",
    "plt.plot(false_positive_rate4, true_positive_rate4, \"b\", label='AUC = %0.4f' % roc_auc3)\n",
    "plt.title('ROC Curve')\n",
    "plt.legend(loc = 'lower right')\n",
    "plt.plot([0,1], [0,1], 'r--') #garis linier merah\n",
    "plt.xlim([0,1])\n",
    "plt.ylim([0,1])\n",
    "plt.ylabel('TPR')\n",
    "plt.xlabel('FPR')\n",
    "plt.show()"
   ]
  },
  {
   "cell_type": "code",
   "execution_count": 22,
   "metadata": {
    "colab": {
     "base_uri": "https://localhost:8080/"
    },
    "id": "R8_lNFWlJ_Eu",
    "outputId": "01a7b5a1-c487-4fad-bbdf-c3c934cb4a1f"
   },
   "outputs": [
    {
     "name": "stdout",
     "output_type": "stream",
     "text": [
      "Accuracy: 83.72%\n",
      "Spesification: 97.53%\n",
      "Sensitivity: 60.42%\n",
      "Precision: 87.03%\n",
      "AUC: 78.97%\n"
     ]
    }
   ],
   "source": [
    "### METODE CV ###\n",
    "#NB\n",
    "#DATA TESTING\n",
    "\n",
    "from sklearn.metrics import confusion_matrix, accuracy_score, roc_auc_score\n",
    "from sklearn import model_selection\n",
    "from sklearn import naive_bayes\n",
    "from sklearn.model_selection import KFold, cross_val_score\n",
    "from sklearn.naive_bayes import BernoulliNB\n",
    "\n",
    "NB_test =  BernoulliNB()\n",
    "\n",
    "cm=[]\n",
    "total=[]\n",
    "ac=[]\n",
    "se=[]\n",
    "sp=[]\n",
    "\n",
    "n=5\n",
    "\n",
    "for j in range (n):\n",
    "    \n",
    "    NB_test = NB_test.fit(x_test_1,y_test_1)\n",
    "    y_pred4 = NB_test.predict(x_test_1)\n",
    "    cm.append((confusion_matrix(y_test_1, y_pred4)).astype(float))\n",
    "    total.append(sum(sum(cm[j])))\n",
    "    ac.append((cm[j][0,0]+cm[j][1,1])/total[j])\n",
    "    se.append(cm[j][0,0]/(cm[j][0,0]+cm[j][0,1]))\n",
    "    sp.append(cm[j][1,1]/(cm[j][1,0]+cm[j][1,1]))\n",
    "\n",
    "#menghitung akurasi, spesifikasi, dan sensitiviti\n",
    "akurasi4=np.mean(ac)\n",
    "spesifisiti4=np.mean(sp)\n",
    "sensitiviti4=np.mean(se)\n",
    "\n",
    "df_k5=pd.DataFrame()\n",
    "test=dict()\n",
    "for j in range (3):\n",
    "    test[j]=[]\n",
    "for i in range (n):\n",
    "    test[0].append(ac[i])\n",
    "    test[1].append(sp[i])\n",
    "    test[2].append(se[i])\n",
    "for i in range (3):\n",
    "    df_k5=pd.concat([df_k5,pd.DataFrame(test[i])],axis=1)\n",
    "df_k5.columns=['Akurasi','Spesitifitas','Sensitivitas']\n",
    "df_k5\n",
    "\n",
    "#menghitung auc\n",
    "auc_NB_test= round(roc_auc_score(y_test_1, y_pred4)*100, 2)\n",
    "auc_NB_test\n",
    "\n",
    "presisi = model_selection.cross_val_score(NB_test, x_test_1, y_pred4, cv=Kfold, scoring='precision')\n",
    "Presisi=presisi.mean()\n",
    "\n",
    "print(\"Accuracy: %.2f%%\" % (akurasi4*100.0))\n",
    "print(\"Spesification: %.2f%%\" % (spesifisiti4*100.0))\n",
    "print(\"Sensitivity: %.2f%%\" % (sensitiviti4*100.0))\n",
    "print(\"Precision: %.2f%%\" % (Presisi*100.0))\n",
    "print(\"AUC: %.2f%%\" % (auc_NB_test))"
   ]
  },
  {
   "cell_type": "code",
   "execution_count": 23,
   "metadata": {
    "colab": {
     "base_uri": "https://localhost:8080/"
    },
    "id": "Bkf9MFoxKzsq",
    "outputId": "57a254c6-6c84-4835-d241-d352556b2a19"
   },
   "outputs": [
    {
     "name": "stdout",
     "output_type": "stream",
     "text": [
      "[[29 19]\n",
      " [ 2 79]]\n",
      "              precision    recall  f1-score   support\n",
      "\n",
      "           0       0.94      0.60      0.73        48\n",
      "           1       0.81      0.98      0.88        81\n",
      "\n",
      "    accuracy                           0.84       129\n",
      "   macro avg       0.87      0.79      0.81       129\n",
      "weighted avg       0.85      0.84      0.83       129\n",
      "\n"
     ]
    }
   ],
   "source": [
    "from sklearn.metrics import classification_report, confusion_matrix\n",
    "print(confusion_matrix(y_test_1, y_pred4))\n",
    "print(classification_report(y_test_1, y_pred4))"
   ]
  },
  {
   "cell_type": "code",
   "execution_count": 24,
   "metadata": {
    "colab": {
     "base_uri": "https://localhost:8080/",
     "height": 295
    },
    "id": "hvTd5wrMK_Kn",
    "outputId": "667c6b5f-d09e-4521-c34d-2b122b0b0217"
   },
   "outputs": [
    {
     "data": {
      "image/png": "[encoded data removed]",
      "text/plain": [
       "<Figure size 432x288 with 1 Axes>"
      ]
     },
     "metadata": {
      "needs_background": "light"
     },
     "output_type": "display_data"
    }
   ],
   "source": [
    "import matplotlib.pyplot as plt\n",
    "from sklearn.metrics import roc_curve, auc\n",
    "\n",
    "false_positive_rate5, true_positive_rate5, thresholds=roc_curve(y_test_1, y_pred4)\n",
    "roc_auc4 = auc(false_positive_rate5, true_positive_rate5)\n",
    "roc_auc4\n",
    " \n",
    "plt.plot(false_positive_rate5, true_positive_rate5, \"b\", label='AUC = %0.4f' % roc_auc4)\n",
    "plt.title('ROC Curve')\n",
    "plt.legend(loc = 'lower right')\n",
    "plt.plot([0,1], [0,1], 'r--') #garis linier merah\n",
    "plt.xlim([0,1])\n",
    "plt.ylim([0,1])\n",
    "plt.ylabel('TPR')\n",
    "plt.xlabel('FPR')\n",
    "plt.show()"
   ]
  },
  {
   "cell_type": "code",
   "execution_count": 25,
   "metadata": {
    "colab": {
     "base_uri": "https://localhost:8080/"
    },
    "id": "DjXY67wBwIKq",
    "outputId": "dd11faeb-7cde-4c70-cae7-3a16bf71d432"
   },
   "outputs": [
    {
     "name": "stdout",
     "output_type": "stream",
     "text": [
      "Accuracy: 69.35%\n",
      "Precision: 57.59%\n",
      "Sensitivity: 64.79%\n"
     ]
    }
   ],
   "source": [
    "from sklearn.model_selection import train_test_split\n",
    "from sklearn import model_selection\n",
    "from sklearn.naive_bayes import BernoulliNB\n",
    "x=fix.drop(['Kategori Tweet'],axis=1)\n",
    "y=fix['Kategori Tweet']\n",
    "kfold = KFold(n_splits=5)\n",
    "model_kfold = BernoulliNB()\n",
    "akurasi = model_selection.cross_val_score(model_kfold, x, y, cv=kfold, scoring='accuracy')\n",
    "presisi = model_selection.cross_val_score(model_kfold, x, y, cv=kfold, scoring='precision')\n",
    "sensitifitas = model_selection.cross_val_score(model_kfold, x, y, cv=kfold, scoring='recall')\n",
    "Akurasi=akurasi.mean()\n",
    "Presisi=presisi.mean()\n",
    "Sensitifitas=sensitifitas.mean()\n",
    "print(\"Accuracy: %.2f%%\" % (Akurasi*100.0))\n",
    "print(\"Precision: %.2f%%\" % (Presisi*100.0))\n",
    "print(\"Sensitivity: %.2f%%\" % (Sensitifitas*100.0))"
   ]
  },
  {
   "cell_type": "code",
   "execution_count": null,
   "metadata": {
    "colab": {
     "base_uri": "https://localhost:8080/"
    },
    "id": "GNpqNBh1wr1v",
    "outputId": "856ca1e4-f1bc-45cd-ee11-7a9399961f44"
   },
   "outputs": [
    {
     "data": {
      "text/plain": [
       "0.7328573766467555"
      ]
     },
     "execution_count": 84,
     "metadata": {},
     "output_type": "execute_result"
    }
   ],
   "source": [
    "from sklearn.feature_selection import SelectKBest\n",
    "mk=model_kfold.fit(x,y)\n",
    "y_pred=mk.predict(x)\n",
    "from sklearn.metrics import roc_curve, auc\n",
    "false_positive_rate2, true_positive_rate2, thresholds=roc_curve(y, y_pred)\n",
    "roc_auc2 = auc(false_positive_rate2, true_positive_rate2)\n",
    "roc_auc2"
   ]
  },
  {
   "cell_type": "code",
   "execution_count": null,
   "metadata": {
    "colab": {
     "base_uri": "https://localhost:8080/"
    },
    "id": "8DMBxmNrwsa4",
    "outputId": "ad841fd9-6264-453b-f153-ab2b1e07504c"
   },
   "outputs": [
    {
     "name": "stdout",
     "output_type": "stream",
     "text": [
      "[[300 104]\n",
      " [ 67 175]]\n",
      "              precision    recall  f1-score   support\n",
      "\n",
      "           0       0.82      0.74      0.78       404\n",
      "           1       0.63      0.72      0.67       242\n",
      "\n",
      "    accuracy                           0.74       646\n",
      "   macro avg       0.72      0.73      0.72       646\n",
      "weighted avg       0.75      0.74      0.74       646\n",
      "\n"
     ]
    }
   ],
   "source": [
    "from sklearn.metrics import classification_report, confusion_matrix\n",
    "print(confusion_matrix(y, y_pred))\n",
    "print(classification_report(y, y_pred))"
   ]
  },
  {
   "cell_type": "code",
   "execution_count": null,
   "metadata": {
    "colab": {
     "base_uri": "https://localhost:8080/",
     "height": 295
    },
    "id": "7IP0IlF1w50H",
    "outputId": "be072634-36ba-4012-ee64-e112d25bf71a"
   },
   "outputs": [
    {
     "data": {
      "image/png": "[encoded data removed]",
      "text/plain": [
       "<Figure size 432x288 with 1 Axes>"
      ]
     },
     "metadata": {
      "needs_background": "light"
     },
     "output_type": "display_data"
    }
   ],
   "source": [
    "import sklearn.metrics as metrics\n",
    "import matplotlib.pyplot as plt\n",
    "    \n",
    "plt.plot(false_positive_rate2, true_positive_rate2, \"b\", label='AUC = %0.4f' % roc_auc2)\n",
    "plt.title('ROC Curve')\n",
    "plt.legend(loc = 'lower right')\n",
    "plt.plot([0,1], [0,1], 'r--') #garis linier merah\n",
    "plt.xlim([0,1])\n",
    "plt.ylim([0,1])\n",
    "plt.ylabel('TPR')\n",
    "plt.xlabel('FPR')\n",
    "plt.show()"
   ]
  }
 ],
 "metadata": {
  "colab": {
   "collapsed_sections": [],
   "name": "Project Text Mining Twitter Gojek.ipynb",
   "provenance": []
  },
  "kernelspec": {
   "display_name": "Python 3",
   "language": "python",
   "name": "python3"
  },
  "language_info": {
   "codemirror_mode": {
    "name": "ipython",
    "version": 3
   },
   "file_extension": ".py",
   "mimetype": "text/x-python",
   "name": "python",
   "nbconvert_exporter": "python",
   "pygments_lexer": "ipython3",
   "version": "3.8.5"
  }
 },
 "nbformat": 4,
 "nbformat_minor": 1
}
